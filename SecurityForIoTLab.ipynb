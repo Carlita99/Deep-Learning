{
  "nbformat": 4,
  "nbformat_minor": 0,
  "metadata": {
    "colab": {
      "name": "SecurityForIoTLabs.ipynb",
      "provenance": [],
      "collapsed_sections": []
    },
    "kernelspec": {
      "name": "python3",
      "display_name": "Python 3"
    },
    "language_info": {
      "name": "python"
    },
    "accelerator": "GPU"
  },
  "cells": [
    {
      "cell_type": "markdown",
      "metadata": {
        "id": "67zbnguL-3_-"
      },
      "source": [
        "<h1 align=\"center\"><b> Security for the Internet of Things </b></h1>\n",
        "\n",
        "<p> This report is done by <b>Carlita Khawand & Hussein Jaber</b> for the course <b>Security for Connected Objects</b>.</p>\n",
        "<p>The work on the TPs was supervised by Professor <b>Christophe GUYEUX</b>.</p>"
      ]
    },
    {
      "cell_type": "markdown",
      "metadata": {
        "id": "fOOEu80TCb5m"
      },
      "source": [
        "<h2><b> I- INTRODUCTION TO IOT SECURITY </b></h2>\n",
        "\n",
        "<p> IoT security is a type of cybersecurity that focuses on protecting the digital data shared and stored on the internet by a network of connected devices. </p>\n",
        "<p> In order to do that, many new techniques were developped that make sure the adversary does not find the secret key that will help him encrypt the data or that at least the probability of him finding this secret is super low. This makes it clear that the computer security relies on problems that are considered difficult arithmetic problems. So, in other words, probability and complexity play an important role in cryptography.</p>\n",
        "<p> Two numbers will be generated: <b>Prime Number</b> (the secret key) and <b>Random Number</b> (produced by sensors or algorithms).</p>"
      ]
    },
    {
      "cell_type": "markdown",
      "metadata": {
        "id": "bc5ON6fvE-L8"
      },
      "source": [
        "<h2><b> II- A SYMMETRICAL ENCRYPTION ALGORITHM FOR THE IOT </b></h2>\n",
        "\n",
        "<p> The one time pad technique is an encryption technique that requires the use of a single pre-shared key. A plaintext message is paired with one random secret key where it will be encrypted by combining each bit or character from the message with the corresponding bit or character from the secret key. This same key will be then used in order to decrypt the message on the receiving end. That is why we call this method a symetrical technique.</p>\n",
        "<p> To apply this technique, few rules should be respected: \n",
        "  <ul>\n",
        "    <li> The key generated must be random </li>\n",
        "    <li> The size of the key generated is the same as the size of the message.</li>\n",
        "    <li> The key must be used only once. </li>\n",
        "  </ul>\n",
        "</p>\n",
        "\n",
        "<p> Let's see how we can apply this technique using a simple symetrical encryption algorithm. </p>\n",
        "<p>First, Let's start by importing the necessary libraries for this code.</p>"
      ]
    },
    {
      "cell_type": "code",
      "metadata": {
        "id": "EHUTaPyDH_dP"
      },
      "source": [
        "import random\n",
        "import numpy as geek"
      ],
      "execution_count": null,
      "outputs": []
    },
    {
      "cell_type": "markdown",
      "metadata": {
        "id": "_p9wsZtcINzy"
      },
      "source": [
        "<p> Now, we can define the function that generated a random key given the size of the message.</p>"
      ]
    },
    {
      "cell_type": "code",
      "metadata": {
        "id": "uHQTw-XuIWjt"
      },
      "source": [
        "def randomKey(size):\n",
        "  key = \"\"\n",
        "  for i in range(size):\n",
        "    temp = str(random.randint(0, 1))\n",
        "    key += temp\n",
        "  return(key)"
      ],
      "execution_count": null,
      "outputs": []
    },
    {
      "cell_type": "markdown",
      "metadata": {
        "id": "XykQblOZJGCz"
      },
      "source": [
        "<p> Then, we will define the encrypt function that will be based on a xor operation between the key and message. </p>"
      ]
    },
    {
      "cell_type": "code",
      "metadata": {
        "id": "I5YkwCO2JP-B"
      },
      "source": [
        "def encrypt(message, key):\n",
        "  messageArray = []\n",
        "  keyArray = []\n",
        "  for i in range(0, len(message)):\n",
        "    messageArray.append(int(message[i]))\n",
        "    keyArray.append(int(key[i]))\n",
        "  encryptedMessageArray = geek.bitwise_xor(messageArray, keyArray)\n",
        "  encryptedMessage = \"\"\n",
        "  for i in range(0, len(message)):\n",
        "    encryptedMessage += str(encryptedMessageArray[i])\n",
        "  return encryptedMessage\n"
      ],
      "execution_count": null,
      "outputs": []
    },
    {
      "cell_type": "markdown",
      "metadata": {
        "id": "Hlf9tz0fJ2EF"
      },
      "source": [
        "<p> The decrypt function is a basic call for the encrypt function as it also applies xor on the encrypted message and the key to get the original message.</p>"
      ]
    },
    {
      "cell_type": "code",
      "metadata": {
        "id": "cVwZFC29J6xL"
      },
      "source": [
        "def decrypt(encryptedMessage, key):\n",
        "  message = encrypt(encryptedMessage, key)\n",
        "  return message"
      ],
      "execution_count": null,
      "outputs": []
    },
    {
      "cell_type": "markdown",
      "metadata": {
        "id": "Z-Q2GvtKJ_mo"
      },
      "source": [
        "<p> Now that we defined the needed functions, we can run our code and test the algorithm. </p>"
      ]
    },
    {
      "cell_type": "code",
      "metadata": {
        "colab": {
          "base_uri": "https://localhost:8080/"
        },
        "id": "YxsN-2SDKI_t",
        "outputId": "939b34c0-22ef-491b-c117-9a451ee685a1"
      },
      "source": [
        "isDigit = False\n",
        "while not isDigit:\n",
        "  message = input(\"Enter your bit message: \")\n",
        "  messageSet = set(message)\n",
        "  s = {'0', '1'}\n",
        "  # check if message is a bit sequence\n",
        "  if s == messageSet or messageSet == {'0'} or messageSet == {'1'}:\n",
        "      isDigit = True\n",
        "  else :\n",
        "      print(\"The user input is not a sequence of bits! Please try again\")\n",
        "\n",
        "messageLength = len(message)\n",
        "key = randomKey(messageLength)\n",
        "print(\"The random key generated is: \" + key)\n",
        "\n",
        "encryptedMessage = encrypt(message, key)\n",
        "print(\"The encrypted message is: \" + encryptedMessage)\n",
        "\n",
        "decryptedMessage = decrypt(encryptedMessage, key)\n",
        "print(\"The decrypted message is: \" + decryptedMessage)"
      ],
      "execution_count": null,
      "outputs": [
        {
          "output_type": "stream",
          "name": "stdout",
          "text": [
            "Enter your bit message: 0010010100011110011111110\n",
            "The random key generated is: 0101101010100110111011011\n",
            "The encrypted message is: 0111111110111000100100101\n",
            "The decrypted message is: 0010010100011110011111110\n"
          ]
        }
      ]
    },
    {
      "cell_type": "markdown",
      "metadata": {
        "id": "jN9obAMHN_Qv"
      },
      "source": [
        "<p> As we can see, after running the code and seeing the results we got, the decrypted message at the end is the same as the original message from the user's input. So, this is a basic example of the symetrical encryption using XOR.</p>"
      ]
    },
    {
      "cell_type": "markdown",
      "metadata": {
        "id": "LT84GgF3OWs8"
      },
      "source": [
        "<h2><b> III- CONSTITUTION OF RANDOM GENERATORS </b></h2>\n",
        "\n",
        "<p>A random number generator is a hardware device or software algorithm that generates a number and it is one of the foundations of computer security.</p>\n",
        "<p> Two main types of random number generators are pseudo random number generators and true random number generators:\n",
        "  <ol>\n",
        "    <li> Pseudo Random Number Generators \n",
        "      <ul>\n",
        "        <li>The generators are software algorithms.</li>\n",
        "        <li>The output is not truly a random number.</li>\n",
        "        <li>It can generate the same pseudo-random numbers twice by providing the same seed.</li>\n",
        "      </ul>  \n",
        "    </li>\n",
        "    <li> True Random Number Generators \n",
        "      <ul>\n",
        "        <li>The generators are hardware (sensors).</li>\n",
        "        <li>The output is a true random variable.</li>\n",
        "        <li>This random is not reproducible.</li>\n",
        "      </ul>\n",
        "    </li>  \n",
        "  </ol>\n",
        "</p>\n",
        "\n",
        "<h4><b> III.1 - LINEAR CONGRUENTIAL GENERATORS </b> </h4>\n",
        "\n",
        "<p>A linear congruential generator (LCG) is an algorithm that yields a sequence of pseudo-randomized numbers. The method represents one of the oldest and best-known pseudorandom number generator algorithms.</p>\n",
        "\n",
        "<p> They have a low complexity which makes them usable in IoT but they are unsafe which is why other new generators were introduced. </p>\n",
        "\n",
        "<p> The LCG is defined by:</p>\n",
        "<p align=\"center\"><i>$X_{n+1} = (a . X_n + c)$%m</i></p>\n",
        "<p><i> with: </i>\n",
        "  <ul>\n",
        "    <li>c  and m are coprime integers (their gcd is 1).</li>\n",
        "    <li>For each prime number p dividing m, (a−1) is a multiple of p.</li>\n",
        "    <li> m multiple of 4 ⇒(a−1) multiple of 4.</li>\n",
        "    <li> c≠0. </li>\n",
        "  </ul>\n",
        "</p>\n",
        "\n",
        "<p> Let's test this LCG with a simple algorithm. </p>\n",
        "<p> First, let's start by implementing the lcg function that computes the value of x.</p>"
      ]
    },
    {
      "cell_type": "code",
      "metadata": {
        "id": "cYmKXMWXXabL"
      },
      "source": [
        "def lcg(x, a, c, m):\n",
        "    while True:\n",
        "        x = (a * x + c) % m\n",
        "        yield x"
      ],
      "execution_count": null,
      "outputs": []
    },
    {
      "cell_type": "markdown",
      "metadata": {
        "id": "SVtqRJhJYCgF"
      },
      "source": [
        "<p>The random_uniform_sample function will return a sample generated using the lcg function. </p>"
      ]
    },
    {
      "cell_type": "code",
      "metadata": {
        "id": "R-5MiaMdYOk1"
      },
      "source": [
        "def randomUniformSample(a, c, m, n, interval, seed=0):\n",
        "    bsdrand = lcg(seed, a, c, m)\n",
        "\n",
        "    lower, upper = interval[0], interval[1]\n",
        "    sample = []\n",
        "\n",
        "    for i in range(n):\n",
        "        observation = (upper - lower) * (next(bsdrand) / (2 ** 31 - 1)) + lower\n",
        "        sample.append(round(observation))\n",
        "\n",
        "    return sample"
      ],
      "execution_count": null,
      "outputs": []
    },
    {
      "cell_type": "markdown",
      "metadata": {
        "id": "GQxjSPPpYkRl"
      },
      "source": [
        "<p> Now, we can test the code using a = 1103515245, c = 12345 and m = 2 ** 31.</p>\n",
        "\n"
      ]
    },
    {
      "cell_type": "code",
      "metadata": {
        "colab": {
          "base_uri": "https://localhost:8080/"
        },
        "id": "gbxdBydfYlAQ",
        "outputId": "e7adc542-27eb-4c8f-dd11-0b0a5f183371"
      },
      "source": [
        "a, c, m = 1103515245, 12345, 2 ** 31\n",
        "generatedSample = randomUniformSample(a, c, m, 10, [0, 10], 1)\n",
        "print(\"The generated sample is: \")\n",
        "print(generatedSample)"
      ],
      "execution_count": null,
      "outputs": [
        {
          "output_type": "stream",
          "name": "stdout",
          "text": [
            "The generated sample is: \n",
            "[5, 2, 3, 5, 9, 2, 7, 2, 5, 1]\n"
          ]
        }
      ]
    },
    {
      "cell_type": "markdown",
      "metadata": {
        "id": "zfo674xMaU23"
      },
      "source": [
        "<p> In order to check that the numbers produced look random, we will check the number of odd and even numbers. So, we have to write a function that counts the odd and even numbers of a sample.</p>"
      ]
    },
    {
      "cell_type": "code",
      "metadata": {
        "id": "sy96-iAka-iG"
      },
      "source": [
        "def evenOddFrequency(generatedSample):\n",
        "  nbEven = 0\n",
        "  nbOdd = 0\n",
        "  for nb in generatedSample:\n",
        "        if not int(nb) % 2:\n",
        "    \t     nbEven+=1\n",
        "        else:\n",
        "    \t     nbOdd+=1\n",
        "  print(\"Number of even numbers: \" + str(nbEven))\n",
        "  print(\"Number of odd numbers: \" + str(nbOdd))"
      ],
      "execution_count": null,
      "outputs": []
    },
    {
      "cell_type": "markdown",
      "metadata": {
        "id": "gszRxH2UbSzk"
      },
      "source": [
        "<p> To test the evenOddFrequency function, we have to generate five samples and check the frequency of each one.</p>"
      ]
    },
    {
      "cell_type": "code",
      "metadata": {
        "colab": {
          "base_uri": "https://localhost:8080/"
        },
        "id": "tyNpSU8Gbwv_",
        "outputId": "4d4077af-9047-4ee0-8e4f-4e0251289e71"
      },
      "source": [
        "a, c, m = 1103515245, 12345, 2 ** 31\n",
        "for i in range(1, 6):  \n",
        "  generatedSample = randomUniformSample(a, c, m, 10, [0, 10], i)\n",
        "  print(\"Generated Sample number \" + str(i) + \" Even-Odd Frequency: \")\n",
        "  print(generatedSample)\n",
        "  evenOddFrequency(generatedSample)\n",
        "  print(\"----------------------------------------------\")"
      ],
      "execution_count": null,
      "outputs": [
        {
          "output_type": "stream",
          "name": "stdout",
          "text": [
            "Generated Sample number 1 Even-Odd Frequency: \n",
            "[5, 2, 3, 5, 9, 2, 7, 2, 5, 1]\n",
            "Number of even numbers: 3\n",
            "Number of odd numbers: 7\n",
            "----------------------------------------------\n",
            "Generated Sample number 2 Even-Odd Frequency: \n",
            "[0, 7, 3, 4, 8, 8, 9, 9, 6, 10]\n",
            "Number of even numbers: 6\n",
            "Number of odd numbers: 4\n",
            "----------------------------------------------\n",
            "Generated Sample number 3 Even-Odd Frequency: \n",
            "[5, 2, 3, 3, 6, 5, 1, 5, 7, 9]\n",
            "Number of even numbers: 2\n",
            "Number of odd numbers: 8\n",
            "----------------------------------------------\n",
            "Generated Sample number 4 Even-Odd Frequency: \n",
            "[1, 7, 3, 1, 5, 1, 3, 1, 9, 7]\n",
            "Number of even numbers: 0\n",
            "Number of odd numbers: 10\n",
            "----------------------------------------------\n",
            "Generated Sample number 5 Even-Odd Frequency: \n",
            "[6, 3, 3, 10, 3, 8, 6, 7, 10, 6]\n",
            "Number of even numbers: 6\n",
            "Number of odd numbers: 4\n",
            "----------------------------------------------\n"
          ]
        }
      ]
    },
    {
      "cell_type": "markdown",
      "metadata": {
        "id": "ADdAXmZgdfMF"
      },
      "source": [
        "<p> We can try to integrate this algorithm with the one we previously implemented (one-time pad) and see what we get as results. Here, the interval will be [0, 1] so we can get a bit sequence and test the encode and decode using the one-time pad algorithm.</p>"
      ]
    },
    {
      "cell_type": "code",
      "metadata": {
        "colab": {
          "base_uri": "https://localhost:8080/"
        },
        "id": "k2KzkhQIdzoO",
        "outputId": "cd240f4e-42a9-499c-9eff-3a7b31602d31"
      },
      "source": [
        "a, c, m = 1103515245, 12345, 2 ** 31\n",
        "generatedSample = randomUniformSample(a, c, m, 10, [0, 1], 1)\n",
        "print(\"The generated sample using LCG is: \")\n",
        "print(generatedSample)\n",
        "\n",
        "message = str(generatedSample).strip('[]').split(\", \")\n",
        "\n",
        "messageLength = len(message)\n",
        "key = randomKey(messageLength)\n",
        "print(\"The random key generated using one-time pad is: \" + key)\n",
        "\n",
        "encryptedMessage = encrypt(message, key)\n",
        "print(\"The encrypted message using XOR is: \" + encryptedMessage)\n",
        "\n",
        "decryptedMessage = decrypt(encryptedMessage, key)\n",
        "print(\"The decrypted message using XOR is: \" + decryptedMessage)"
      ],
      "execution_count": null,
      "outputs": [
        {
          "output_type": "stream",
          "name": "stdout",
          "text": [
            "The generated sample using LCG is: \n",
            "[1, 0, 0, 1, 1, 0, 1, 0, 0, 0]\n",
            "The random key generated using one-time pad is: 0101011001\n",
            "The encrypted message using XOR is: 1100110001\n",
            "The decrypted message using XOR is: 1001101000\n"
          ]
        }
      ]
    },
    {
      "cell_type": "markdown",
      "metadata": {
        "id": "7mcJeMi2frGA"
      },
      "source": [
        "<h4><b>III.2 - THE XORSHIFT </b></h4>\n",
        "\n",
        "<p>Xorshift random number generators, also called shift-register generators are a class of pseudorandom number generators that were proposed by George Marsaglia. They have three main integer parameters: a, b and c.</p>\n",
        "\n",
        "<p>They generate the next number in their sequence by repeatedly taking the exclusive or of a number with a bit-shifted version of itself. This makes them execute extremely efficiently on modern computer architectures, but does not benefit efficiency in a hardware implementation.</p>\n",
        "\n",
        "<p>We can define the xorshift function that shifts the item three times to get the value desired.</p>"
      ]
    },
    {
      "cell_type": "code",
      "metadata": {
        "id": "Q6Yi5djCiMZ3"
      },
      "source": [
        "def xorshift(x, a, b, c):\n",
        "  # 32-bit xorshift\n",
        "  x = x ^ ((x >> a) & 0xFFFFFFFF)\n",
        "  x = x ^ ((x << b) & 0xFFFFFFFF)\n",
        "  x= x ^ ((x >> c) & 0xFFFFFFFF)  \n",
        "  return x"
      ],
      "execution_count": null,
      "outputs": []
    },
    {
      "cell_type": "markdown",
      "metadata": {
        "id": "O84ePZYMiXA2"
      },
      "source": [
        "<p>The previous function returns a decimal random number. To get a binary random number, we will implement a xorshiftBinary function. This function simply calls the xorshift and converts the random number generated into binary.</p>"
      ]
    },
    {
      "cell_type": "code",
      "metadata": {
        "id": "BTZZLUfWijJA"
      },
      "source": [
        "def xorshiftBinary(x, a, b, c):\n",
        "  generatedNumber = xorshift(x, a, b, c)\n",
        "  generatedNumberBinary = [int(number) for number in str(bin(generatedNumber))[2:]]\n",
        "  return generatedNumberBinary"
      ],
      "execution_count": null,
      "outputs": []
    },
    {
      "cell_type": "markdown",
      "metadata": {
        "id": "ZKXAR5OBjBpF"
      },
      "source": [
        "<p> We can now test the two functions and see the outputs generated.</p>"
      ]
    },
    {
      "cell_type": "code",
      "metadata": {
        "colab": {
          "base_uri": "https://localhost:8080/"
        },
        "id": "1vFEiQrSjL6h",
        "outputId": "e4139270-a2e2-4057-d187-7fc3cf21ec9e"
      },
      "source": [
        "generatedNumber = xorshift(123456789,12,25,27)\n",
        "print(\"The generated number after applying xorshift is: \" + str(generatedNumber))\n",
        "generatedNumberBinary = xorshiftBinary(123456789,12,25,27)\n",
        "print(\"The generated number after applying xorshift in binary is: \")\n",
        "print(generatedNumberBinary)"
      ],
      "execution_count": null,
      "outputs": [
        {
          "output_type": "stream",
          "name": "stdout",
          "text": [
            "The generated number after applying xorshift is: 1432074403\n",
            "The generated number after applying xorshift in binary is: \n",
            "[1, 0, 1, 0, 1, 0, 1, 0, 1, 0, 1, 1, 0, 1, 1, 1, 0, 1, 1, 1, 0, 0, 0, 1, 0, 1, 0, 0, 0, 1, 1]\n"
          ]
        }
      ]
    },
    {
      "cell_type": "markdown",
      "metadata": {
        "id": "1PL9Wu9UkKGl"
      },
      "source": [
        "<p> Like we did for LCG, we can apply the one-time pad algorithm on the xorshift generated sample.</p>"
      ]
    },
    {
      "cell_type": "code",
      "metadata": {
        "colab": {
          "base_uri": "https://localhost:8080/"
        },
        "id": "PpBdIbK6kdre",
        "outputId": "3ca10260-f950-4207-d0c8-fe24cc38209c"
      },
      "source": [
        "generatedNumberBinary = xorshiftBinary(123456789,12,25,27)\n",
        "print(\"The generated number after applying xorshift in binary is: \")\n",
        "print(generatedNumberBinary)\n",
        "\n",
        "message = str(generatedNumberBinary).strip('[]').split(\", \")\n",
        "\n",
        "messageLength = len(message)\n",
        "key = randomKey(messageLength)\n",
        "print(\"The random key generated using one-time pad is: \" + key)\n",
        "\n",
        "encryptedMessage = encrypt(message, key)\n",
        "print(\"The encrypted message using XOR is: \" + encryptedMessage)\n",
        "\n",
        "decryptedMessage = decrypt(encryptedMessage, key)\n",
        "print(\"The decrypted message using XOR is: \" + decryptedMessage)"
      ],
      "execution_count": null,
      "outputs": [
        {
          "output_type": "stream",
          "name": "stdout",
          "text": [
            "The generated number after applying xorshift in binary is: \n",
            "[1, 0, 1, 0, 1, 0, 1, 0, 1, 0, 1, 1, 0, 1, 1, 1, 0, 1, 1, 1, 0, 0, 0, 1, 0, 1, 0, 0, 0, 1, 1]\n",
            "The random key generated using one-time pad is: 1110000010000001101110010000111\n",
            "The encrypted message using XOR is: 0100101000110110110010000100100\n",
            "The decrypted message using XOR is: 1010101010110111011100010100011\n"
          ]
        }
      ]
    },
    {
      "cell_type": "markdown",
      "metadata": {
        "id": "-MTZpvPck3Qg"
      },
      "source": [
        "<p> Now that we implemented the LCG and xorshift algorithms, we can compare them regarding the time needed to generated a random number. For that, we have to add a new library</p>"
      ]
    },
    {
      "cell_type": "code",
      "metadata": {
        "id": "fKPV_104lPds"
      },
      "source": [
        "import time"
      ],
      "execution_count": null,
      "outputs": []
    },
    {
      "cell_type": "markdown",
      "metadata": {
        "id": "9gUAWHlrlQWv"
      },
      "source": [
        "<p> Let's first compute the execution time for the LCG algorithm.</p>"
      ]
    },
    {
      "cell_type": "code",
      "metadata": {
        "colab": {
          "base_uri": "https://localhost:8080/"
        },
        "id": "PoNJJh-slWwx",
        "outputId": "163ad646-88f9-4cdd-e0f3-5ea12391a8a5"
      },
      "source": [
        "start_time = time.time()\n",
        "a, c, m = 1103515245, 12345, 2 ** 31\n",
        "generatedSample = randomUniformSample(a, c, m, 32, [0, 1], 1)\n",
        "print(\"The generated sample using LCG is: \")\n",
        "print(generatedSample)\n",
        "print(\"--- %s seconds ---\" % (time.time() - start_time))"
      ],
      "execution_count": null,
      "outputs": [
        {
          "output_type": "stream",
          "name": "stdout",
          "text": [
            "The generated sample using LCG is: \n",
            "[1, 0, 0, 1, 1, 0, 1, 0, 0, 0, 0, 0, 0, 0, 1, 1, 1, 1, 1, 1, 1, 0, 1, 0, 0, 1, 1, 0, 1, 1, 1, 1]\n",
            "--- 0.0023233890533447266 seconds ---\n"
          ]
        }
      ]
    },
    {
      "cell_type": "markdown",
      "metadata": {
        "id": "_J2GDeK8llzH"
      },
      "source": [
        "<p> And now we'll compute the execution time for the xorshift algorithm.</p>"
      ]
    },
    {
      "cell_type": "code",
      "metadata": {
        "colab": {
          "base_uri": "https://localhost:8080/"
        },
        "id": "A3O-tpcklDfG",
        "outputId": "ad8e6afe-479a-4596-c63e-86777a72adc5"
      },
      "source": [
        "start_time = time.time()\n",
        "generatedNumberBinary = xorshiftBinary(1234567895,12,25,27)\n",
        "print(\"The generated number after applying xorshift in binary is: \")\n",
        "print(generatedNumberBinary)\n",
        "print(\"--- %s seconds ---\" % (time.time() - start_time))"
      ],
      "execution_count": null,
      "outputs": [
        {
          "output_type": "stream",
          "name": "stdout",
          "text": [
            "The generated number after applying xorshift in binary is: \n",
            "[1, 0, 0, 1, 1, 1, 1, 0, 0, 1, 0, 0, 1, 0, 1, 0, 0, 1, 1, 0, 1, 1, 1, 0, 1, 1, 0, 0, 1, 1]\n",
            "--- 0.0015690326690673828 seconds ---\n"
          ]
        }
      ]
    },
    {
      "cell_type": "markdown",
      "metadata": {
        "id": "C32bHMv9l_hr"
      },
      "source": [
        "<p> As we can see, both algorithms are really fast in terms of generating one sample and there is a slight difference in the speed. In order to really see the difference, let's test the time it would take to generate 1000000 samples of 32 bits for each algorithm. </p>"
      ]
    },
    {
      "cell_type": "code",
      "metadata": {
        "colab": {
          "base_uri": "https://localhost:8080/"
        },
        "id": "lGn5oI2lmRIE",
        "outputId": "167237fe-b02d-4c73-93da-c8fc38ea2072"
      },
      "source": [
        "start_time = time.time()\n",
        "a, c, m = 1103515245, 12345, 2 ** 31\n",
        "for i in range(1000000):\n",
        "  generatedSample = randomUniformSample(a, c, m, 32, [0, 1], i)\n",
        "print(\"--- LCG %s seconds ---\" % (time.time() - start_time))\n",
        "\n",
        "start_time = time.time()\n",
        "for i in range(1000000):\n",
        "  generatedNumberBinary = xorshiftBinary(1234567895,12,25,27)\n",
        "print(\"--- xorshift %s seconds ---\" % (time.time() - start_time))"
      ],
      "execution_count": null,
      "outputs": [
        {
          "output_type": "stream",
          "name": "stdout",
          "text": [
            "--- LCG 24.801329851150513 seconds ---\n",
            "--- xorshift 7.326638221740723 seconds ---\n"
          ]
        }
      ]
    },
    {
      "cell_type": "markdown",
      "metadata": {
        "id": "y12d33N_m5QU"
      },
      "source": [
        "<p> We notice that to generate 1000000 samples of 32-bits, the xorshift algorithm was faster than the LCG algorithm.</p>"
      ]
    },
    {
      "cell_type": "markdown",
      "metadata": {
        "id": "krKoM-W2nWD8"
      },
      "source": [
        "<h4><b>III.3 - LINEAR FEEDBACK SHIFT REGISTERS </b></h4>\n",
        "\n",
        "<p>A linear-feedback shift register (LFSR) is a shift register whose input bit is a linear function of its previous state. The most commonly used linear function of single bits is XOR. The initial value of the LFSR is called the seed.</p>\n",
        "\n",
        "<p> Applications of LFSRs include generating pseudo-random numbers, pseudo-noise sequences, fast digital counters, and whitening sequences. Both hardware and software implementations of LFSRs are common.</p>\n",
        "\n",
        "<p> Let's implement a simple algorithm that demonstarted how LFSR works.</p>\n",
        "\n",
        "<p> We will start by implementing the xor function that will be used by the lfsr function.</p>"
      ]
    },
    {
      "cell_type": "code",
      "metadata": {
        "id": "r8YNaFVhsNVl"
      },
      "source": [
        "def xor(list1, list2, tapPositions, dataLength):\n",
        "    xor = list1[dataLength-1]\n",
        "    for i in range(len(tapPositions)-1):\n",
        "        xor = list1[tapPositions[i]] ^ xor\n",
        "    list2.append(xor)\n",
        "    return list2\n",
        "    "
      ],
      "execution_count": null,
      "outputs": []
    },
    {
      "cell_type": "markdown",
      "metadata": {
        "id": "d04z2cZMt1nX"
      },
      "source": [
        "<p>Now, we will define the lfsr function that generates the number using some input.</p>"
      ]
    },
    {
      "cell_type": "code",
      "metadata": {
        "id": "DETSB8MjuKgi"
      },
      "source": [
        "def lfsr(inputData, clockCycles, tapPositions):\n",
        "  inputData.insert(0,inputData[len(inputData)-1])\n",
        "  inputData.pop()\n",
        "\n",
        "  output = [0]\n",
        "  dataLength = len(inputData)\n",
        "  list1 = inputData\n",
        "  list2 = []\n",
        "  for i in range(int(clockCycles)):\n",
        "      output.insert(0,list1[dataLength-1])\n",
        "      xor(list1, list2, tapPositions, dataLength)\n",
        "      for i in range(dataLength - 1):\n",
        "          list2.append(list1[i])\n",
        "\n",
        "      list1 = list2\n",
        "      list2 = []\n",
        "\n",
        "  output.pop()\n",
        "  output.reverse()\n",
        "  output_data = ''.join(str(x) for x in output)\n",
        "  return output_data"
      ],
      "execution_count": null,
      "outputs": []
    },
    {
      "cell_type": "markdown",
      "metadata": {
        "id": "-f5UnNBDvFJE"
      },
      "source": [
        "<p> Now that we implemented the main functions, we can test out LFSR algorithm.</p>"
      ]
    },
    {
      "cell_type": "code",
      "metadata": {
        "colab": {
          "base_uri": "https://localhost:8080/"
        },
        "id": "chS_hDy4vPFF",
        "outputId": "0ef9b228-e5eb-41e5-acb9-cc544f7238af"
      },
      "source": [
        "tapPositions = input(\"Enter the tap positions:\").split(',')\n",
        "tapPositions = [int(position) for position in tapPositions]\n",
        "inputData = list(input(\"Seed value:\"))\n",
        "inputData = [int(i) for i in inputData]\n",
        "clockCycles = input(\"Number of clock cycles:\")\n",
        "\n",
        "generatedNumber = lfsr(inputData, clockCycles, tapPositions)\n",
        "print(\"The generated number using LFSR is: \")\n",
        "print(generatedNumber)"
      ],
      "execution_count": null,
      "outputs": [
        {
          "output_type": "stream",
          "name": "stdout",
          "text": [
            "Enter the tap positions:0,3\n",
            "Seed value:1011\n",
            "Number of clock cycles:10\n",
            "The generated number using LFSR is: \n",
            "1011001000\n"
          ]
        }
      ]
    },
    {
      "cell_type": "markdown",
      "metadata": {
        "id": "dcVQPXN2w0Mg"
      },
      "source": [
        "<p> Let's test this algorithm combined with the one-time pad algorithm.</p>"
      ]
    },
    {
      "cell_type": "code",
      "metadata": {
        "colab": {
          "base_uri": "https://localhost:8080/"
        },
        "id": "xFvWxl_Rw8Ec",
        "outputId": "422960e3-0654-4571-f645-9dc26b836c87"
      },
      "source": [
        "print(\"The generated number after applying LFSR is: \" + generatedNumber)\n",
        "\n",
        "messageLength = len(generatedNumber)\n",
        "key = randomKey(messageLength)\n",
        "print(\"The random key generated using one-time pad is: \" + key)\n",
        "\n",
        "encryptedMessage = encrypt(generatedNumber, key)\n",
        "print(\"The encrypted message using XOR is: \" + encryptedMessage)\n",
        "\n",
        "decryptedMessage = decrypt(encryptedMessage, key)\n",
        "print(\"The decrypted message using XOR is: \" + decryptedMessage)"
      ],
      "execution_count": null,
      "outputs": [
        {
          "output_type": "stream",
          "name": "stdout",
          "text": [
            "The generated number after applying LFSR is: 1011001000\n",
            "The random key generated using one-time pad is: 1101011011\n",
            "The encrypted message using XOR is: 0110010011\n",
            "The decrypted message using XOR is: 1011001000\n"
          ]
        }
      ]
    },
    {
      "cell_type": "markdown",
      "metadata": {
        "id": "Ui3f1MxfwemY"
      },
      "source": [
        "<h4><b>III.4 - THE MERSENNE-TWISTER</b></h4>\n",
        "\n",
        "<p>The Mersenne Twister is a pseudorandom number generator (PRNG). It is by far the most widely used general-purpose PRNG. This generator was designed specifically to rectify most of the flaws found in older PRNGs.</p>\n",
        "\n",
        "<p>The general algorithm is characterized by the following quantities: \n",
        "  <ul>\n",
        "    <li>word size (in number of bits)</li>\n",
        "    <li>degree of recurrence</li>\n",
        "    <li>middle word, an offset used in the recurrence relation defining the series x, 1 ≤ m < n</li>\n",
        "    <li>separation point of one word, or the number of bits of the lower bitmask, 0 ≤ r ≤ w − 1</li>\n",
        "    <li>coefficients of the rational normal form twist matrix</li>\n",
        "    <li>2 TGFSR(R) tempering bitmasks</li>\n",
        "    <li>2 TGFSR(R) tempering bit shifts</li>\n",
        "    <li>3 additional Mersenne Twister tempering bit shifts/masks</li>\n",
        "  </ul>\n",
        "</p>\n",
        "\n",
        "<p> Let's implement a basic Mersenne-Twister algorithm and run it.</p>\n",
        "<p>We will define the MersenneTwister class along with the values of the quantities we just mentioned and the mersenneTwist, getRandomNumber and int_32 functions.</p>"
      ]
    },
    {
      "cell_type": "code",
      "metadata": {
        "id": "tSqQs3WOzYbg"
      },
      "source": [
        "class MersenneTwister():\n",
        "\n",
        "  def __init__(self, seed = 5489):  \n",
        "    self.seed = seed\n",
        "    self.size = 624\n",
        "    self.state = [0] * size\n",
        "    self.f = 1812433253\n",
        "    self.m = 397\n",
        "    self.u = 11\n",
        "    self.s = 7\n",
        "    self.b = 0x9D2C5680\n",
        "    self.t = 15\n",
        "    self.c = 0xEFC60000\n",
        "    self.l = 18\n",
        "    self.index = 624\n",
        "    self.lower_mask = (1<<31)-1\n",
        "    self.upper_mask = 1<<31\n",
        "    # update state\n",
        "    self.state[0] = self.seed\n",
        "    for i in range(1,624):\n",
        "        self.state[i] = self.int32(f*(self.state[i-1]^(self.state[i-1]>>30)) + i)\n",
        "\n",
        "  def int32(self, number):\n",
        "    return int(0xFFFFFFFF & number)\n",
        "  \n",
        "  def mersenneTwist(self):\n",
        "    for i in range(self.size):\n",
        "        temp = self.int32(self.state[i]&self.upper_mask)+(self.state[(i+1)%self.size]&self.lower_mask)\n",
        "        temp_shift = temp>>1\n",
        "        if temp%2 != 0:\n",
        "            temp_shift = temp_shift^0x9908b0df\n",
        "        self.state[i] = self.state[(i+self.m)%self.size]^temp_shift\n",
        "    self.index = 0\n",
        "\n",
        "  def getRandomNumber(self):\n",
        "    if self.index >= self.size:\n",
        "        self.mersenneTwist()\n",
        "    y = self.state[self.index]\n",
        "    y = y^(y>>self.u)\n",
        "    y = y^((y<<self.s)&self.b)\n",
        "    y = y^((y<<self.t)&self.c)\n",
        "    y = y^(y>>self.l)\n",
        "    self.index+=1\n",
        "    return self.int32(y)\n"
      ],
      "execution_count": null,
      "outputs": []
    },
    {
      "cell_type": "markdown",
      "metadata": {
        "id": "4YGVNU1y2Z8i"
      },
      "source": [
        "<p> Now, we have everything needed to test the algorithm we just implemented.</p>"
      ]
    },
    {
      "cell_type": "code",
      "metadata": {
        "colab": {
          "base_uri": "https://localhost:8080/"
        },
        "id": "de0DHB442gSk",
        "outputId": "09fbe395-3041-43dc-c2a2-ef5792b22ba6"
      },
      "source": [
        "mt = MersenneTwister(1234)\n",
        "message = mt.getRandomNumber()\n",
        "print(\"The generated number after applying Mersenne-Twister is: \" + str(message))\n",
        "messageBinary = [int(msg) for msg in str(bin(message))[2:]]\n",
        "print(\"The generated number in binary after applying Mersenne-Twister is: \")\n",
        "print(messageBinary)"
      ],
      "execution_count": null,
      "outputs": [
        {
          "output_type": "stream",
          "name": "stdout",
          "text": [
            "The generated number after applying Mersenne-Twister is: 822569775\n",
            "The generated number in binary after applying Mersenne-Twister is: \n",
            "[1, 1, 0, 0, 0, 1, 0, 0, 0, 0, 0, 1, 1, 1, 0, 1, 1, 0, 1, 0, 1, 1, 0, 0, 1, 0, 1, 1, 1, 1]\n"
          ]
        }
      ]
    },
    {
      "cell_type": "markdown",
      "metadata": {
        "id": "fzjPx4QO6Ph4"
      },
      "source": [
        "<p> We successfully generated a binary message using Mersenne-Twister. Now, we can combine it with the one-time pad algorithm and see the results.</p>"
      ]
    },
    {
      "cell_type": "code",
      "metadata": {
        "colab": {
          "base_uri": "https://localhost:8080/"
        },
        "id": "ijfoeGk46bCi",
        "outputId": "3cb16572-6aeb-4ee1-b3fa-bae2cc0fccea"
      },
      "source": [
        "message = str(messageBinary).strip('[]').split(\", \")\n",
        "print(\"The generated number after applying Mersenne-Twister is: \")\n",
        "print(message)\n",
        "\n",
        "messageLength = len(message)\n",
        "key = randomKey(messageLength)\n",
        "print(\"The random key generated using one-time pad is: \" + key)\n",
        "\n",
        "encryptedMessage = encrypt(message, key)\n",
        "print(\"The encrypted message using XOR is: \" + encryptedMessage)\n",
        "\n",
        "decryptedMessage = decrypt(encryptedMessage, key)\n",
        "print(\"The decrypted message using XOR is: \" + decryptedMessage)"
      ],
      "execution_count": null,
      "outputs": [
        {
          "output_type": "stream",
          "name": "stdout",
          "text": [
            "The generated number after applying Mersenne-Twister is: \n",
            "['1', '1', '0', '0', '0', '1', '0', '0', '0', '0', '0', '1', '1', '1', '0', '1', '1', '0', '1', '0', '1', '1', '0', '0', '1', '0', '1', '1', '1', '1']\n",
            "The random key generated using one-time pad is: 110101100000101100001010100010\n",
            "The encrypted message using XOR is: 000100100001011010100110001101\n",
            "The decrypted message using XOR is: 110001000001110110101100101111\n"
          ]
        }
      ]
    },
    {
      "cell_type": "markdown",
      "metadata": {
        "id": "cc1VJLLS7Ikp"
      },
      "source": [
        "<h4><b> III.5 - THE BLUM BLUM SHUB </b></h4>\n",
        "\n",
        "<p>Blum Blum Shub (BBS) is a pseudorandom number generator. This algorithm is more complex than the others. However, it is more efficient, as it respects the Shannon's condition.</p>\n",
        "\n",
        "<p>Blum Blum Shub takes the form: </p>\n",
        "<p align=\"center\"><i> $X_{n+1}$ = $X_{n}^{2}$ mod M </i></p>\n",
        "<p><i> Where:</i>\n",
        "  <ul>\n",
        "    <li>M = pq is the product of two large primes p and q.</li>\n",
        "    <li>The seed x0 should be an integer that is co-prime to M.</li>\n",
        "    <li>The two primes, p and q, should both be congruent to 3 (mod 4).</li>\n",
        "  </ul> \n",
        "</p>\n",
        "<p> At each step of the algorithm, some output is derived from $X_{n+1}$. The output is commonly either the bit parity of $X_{n+1}$ or one or more of the least significant bits of $X_{n+1}$.</p>\n",
        "\n",
        "<p> Let's implement this algorithm by defining a BBS class with all the functionalities needed.</p>\n"
      ]
    },
    {
      "cell_type": "code",
      "metadata": {
        "id": "3yOOvFR096iS"
      },
      "source": [
        "class BlumBlumShub():                                             \n",
        "    def __init__(self, length):                                         \n",
        "        self.length = length                                            \n",
        "        self.primes = self.getPrimes(1000)\n",
        "\n",
        "    def getPrimes(self, x):\n",
        "      primes = []\n",
        "      for a in range(1,10000):\n",
        "          for b in range(2,a):\n",
        "              if(a%b==0):\n",
        "                  break\n",
        "              else:\n",
        "                  primes.append(a)\n",
        "              if len(primes) == x:\n",
        "                  return primes                                       \n",
        "\n",
        "    def genPrimes(self):                                             \n",
        "        out_primes = []                                                 \n",
        "        while len(out_primes) < 2:                                      \n",
        "            curr_prime = self.primes[random.randrange(len(self.primes))]\n",
        "            if curr_prime % 4 == 3:                                     \n",
        "                out_primes.append(curr_prime)                           \n",
        "        return out_primes                                               \n",
        "\n",
        "    def randomGenerator(self):                                         \n",
        "        x = random.randrange(1000000)                                   \n",
        "        while self.length:                                              \n",
        "            x += 1                                                      \n",
        "            p, q = self.genPrimes()                                    \n",
        "            m = p * q                                                   \n",
        "            z = (x**2) % m                                              \n",
        "            self.length -= 1                                            \n",
        "            yield str(bin(z).count('1') % 2)                            \n",
        "\n",
        "    def getRandomBits(self):                                          \n",
        "        return ''.join(self.randomGenerator())     "
      ],
      "execution_count": null,
      "outputs": []
    },
    {
      "cell_type": "markdown",
      "metadata": {
        "id": "YRgfQj_w9_sG"
      },
      "source": [
        "<p> Now, we can run and test the algorithm.</p>"
      ]
    },
    {
      "cell_type": "code",
      "metadata": {
        "colab": {
          "base_uri": "https://localhost:8080/"
        },
        "id": "0O4TKKsO-E02",
        "outputId": "076d800e-d42c-449c-bdfd-a73b18aa55e2"
      },
      "source": [
        "bbs = BlumBlumShub(15)\n",
        "message = bbs.getRandomBits()\n",
        "print(\"The generated number after applying BBS is: \" + message)\n"
      ],
      "execution_count": null,
      "outputs": [
        {
          "output_type": "stream",
          "name": "stdout",
          "text": [
            "The generated number after applying BBS is: 111001101011101\n"
          ]
        }
      ]
    },
    {
      "cell_type": "markdown",
      "metadata": {
        "id": "K2v0YU9DAxZv"
      },
      "source": [
        "<p> Now, we can try testing this generated number with the one-time pad algorithm.</p>"
      ]
    },
    {
      "cell_type": "code",
      "metadata": {
        "colab": {
          "base_uri": "https://localhost:8080/"
        },
        "id": "0Uerb56RA5TT",
        "outputId": "e1fef94f-27f0-402a-88f3-8510eb9e9142"
      },
      "source": [
        "print(\"The generated number after applying BBS is: \" + message)\n",
        "\n",
        "messageLength = len(message)\n",
        "key = randomKey(messageLength)\n",
        "print(\"The random key generated using one-time pad is: \" + key)\n",
        "\n",
        "encryptedMessage = encrypt(message, key)\n",
        "print(\"The encrypted message using XOR is: \" + encryptedMessage)\n",
        "\n",
        "decryptedMessage = decrypt(encryptedMessage, key)\n",
        "print(\"The decrypted message using XOR is: \" + decryptedMessage)"
      ],
      "execution_count": null,
      "outputs": [
        {
          "output_type": "stream",
          "name": "stdout",
          "text": [
            "The generated number after applying BBS is: 111001101011101\n",
            "The random key generated using one-time pad is: 101100110010011\n",
            "The encrypted message using XOR is: 010101011001110\n",
            "The decrypted message using XOR is: 111001101011101\n"
          ]
        }
      ]
    },
    {
      "cell_type": "markdown",
      "metadata": {
        "id": "p1ddH9AUBIif"
      },
      "source": [
        "<h4><b> III.6 - ISAAC </b></h4>\n",
        "\n",
        "<p>ISAAC (Indirection, Shift, Accumulate, Add, and Count) is a cryptographically secure pseudorandom number generator (CSPRNG). It produces 32-bit unsigned integers uniformly distributed, unbiased, and unpredictable. Cycles are guaranteed to be a minimum of 240 values long and they are 28295 values long on average. The generator runs fast and performs 18.75 machine cycles on average .</p>"
      ]
    },
    {
      "cell_type": "code",
      "metadata": {
        "id": "RVdyWFQGCxUW"
      },
      "source": [
        "import random\n",
        "import collections\n",
        " \n",
        "INT_MASK = 0xFFFFFFFF\n",
        " \n",
        "class ISAAC(random.Random):\n",
        "\n",
        "  def __init__(self):\n",
        "    self.seed()\n",
        "\n",
        "  def seed(self, seed=None):\n",
        "    \"\"\"\n",
        "    Initialize internal state.\n",
        "\n",
        "    The seed, if given, can be a string, an integer, or an iterable that contains\n",
        "    integers only. If no seed is given, a fixed default state is set up; unlike\n",
        "    our superclass, this class will not attempt to randomize the seed from outside sources.\n",
        "    \"\"\"\n",
        "    def mix():\n",
        "        init_state[0] ^= ((init_state[1]<<11)&INT_MASK); init_state[3] += init_state[0]; init_state[3] &= INT_MASK; init_state[1] += init_state[2]; init_state[1] &= INT_MASK\n",
        "        init_state[1] ^=  (init_state[2]>>2)           ; init_state[4] += init_state[1]; init_state[4] &= INT_MASK; init_state[2] += init_state[3]; init_state[2] &= INT_MASK\n",
        "        init_state[2] ^= ((init_state[3]<<8 )&INT_MASK); init_state[5] += init_state[2]; init_state[5] &= INT_MASK; init_state[3] += init_state[4]; init_state[3] &= INT_MASK\n",
        "        init_state[3] ^=  (init_state[4]>>16)          ; init_state[6] += init_state[3]; init_state[6] &= INT_MASK; init_state[4] += init_state[5]; init_state[4] &= INT_MASK\n",
        "        init_state[4] ^= ((init_state[5]<<10)&INT_MASK); init_state[7] += init_state[4]; init_state[7] &= INT_MASK; init_state[5] += init_state[6]; init_state[5] &= INT_MASK\n",
        "        init_state[5] ^=  (init_state[6]>>4 )          ; init_state[0] += init_state[5]; init_state[0] &= INT_MASK; init_state[6] += init_state[7]; init_state[6] &= INT_MASK\n",
        "        init_state[6] ^= ((init_state[7]<<8 )&INT_MASK); init_state[1] += init_state[6]; init_state[1] &= INT_MASK; init_state[7] += init_state[0]; init_state[7] &= INT_MASK\n",
        "        init_state[7] ^=  (init_state[0]>>9 )          ; init_state[2] += init_state[7]; init_state[2] &= INT_MASK; init_state[0] += init_state[1]; init_state[0] &= INT_MASK\n",
        "\n",
        "    super().seed(0) # give a chance for the superclass to reset its state - the actual seed given to it doesn't matter\n",
        "    if seed is not None:\n",
        "        if isinstance(seed, str):\n",
        "            seed = [ord(x) for x in seed]\n",
        "        elif isinstance(seed, collections.Iterable):\n",
        "            seed = [x & INT_MASK for x in seed]\n",
        "        elif isinstance(seed, int):\n",
        "            val = abs(seed)\n",
        "            seed = []\n",
        "            while val:\n",
        "                seed.append(val & INT_MASK)\n",
        "                val >>= 32\n",
        "        else:\n",
        "            raise TypeError('Seed must be string, integer or iterable of integer')\n",
        "\n",
        "        # make sure the seed list is exactly 256 elements long\n",
        "        if len(seed)>256:\n",
        "            del seed[256:]\n",
        "        elif len(seed)<256:\n",
        "            seed.extend([0]*(256-len(seed)))\n",
        "\n",
        "    self.aa = self.bb = self.cc = 0\n",
        "    self.mm = []\n",
        "    init_state = [0x9e3779b9]*8\n",
        "\n",
        "    for _ in range(4):\n",
        "        mix()\n",
        "\n",
        "    for i in range(0, 256, 8):\n",
        "        if seed is not None:\n",
        "            for j in range(8):\n",
        "                init_state[j] += seed[i+j]\n",
        "                init_state[j] &= INT_MASK\n",
        "        mix()\n",
        "        self.mm += init_state\n",
        "\n",
        "    if seed is not None:\n",
        "        for i in range(0, 256, 8):\n",
        "            for j in range(8):\n",
        "                init_state[j] += self.mm[i+j]\n",
        "                init_state[j] &= INT_MASK\n",
        "            mix()\n",
        "            for j in range(8):\n",
        "                self.mm[i+j] = init_state[j]\n",
        "\n",
        "    self.rand_count = 256\n",
        "    self.rand_result = [0]*256\n",
        "\n",
        "  def _generate(self):\n",
        "    # Generate 256 random 32-bit values and save them in an internal field.\n",
        "    # The actual random functions will dish out these values to callers.\n",
        "    self.cc = (self.cc + 1) & INT_MASK\n",
        "    self.bb = (self.bb + self.cc) & INT_MASK\n",
        "\n",
        "    for i in range(256):\n",
        "        x = self.mm[i]\n",
        "        mod = i & 3\n",
        "        if mod==0:\n",
        "            self.aa ^= ((self.aa << 13) & INT_MASK)\n",
        "        elif mod==1:\n",
        "            self.aa ^= (self.aa >> 6)\n",
        "        elif mod==2:\n",
        "            self.aa ^= ((self.aa << 2) & INT_MASK)\n",
        "        else: # mod == 3\n",
        "            self.aa ^= (self.aa >> 16)\n",
        "        self.aa = (self.mm[i^128] + self.aa) & INT_MASK\n",
        "        y = self.mm[i] = (self.mm[(x>>2) & 0xFF] + self.aa + self.bb) & INT_MASK\n",
        "        self.rand_result[i] = self.bb = (self.mm[(y>>10) & 0xFF] + x) & INT_MASK\n",
        "\n",
        "    self.rand_count = 0\n",
        "\n",
        "  def next_int(self):\n",
        "    \"\"\"Return a random integer between 0 (inclusive) and 2**32 (exclusive).\"\"\"\n",
        "    if self.rand_count == 256:\n",
        "        self._generate()\n",
        "    result = self.rand_result[self.rand_count]\n",
        "    self.rand_count += 1\n",
        "    return result\n",
        "\n",
        "  def getrandbits(self, k):\n",
        "    \"\"\"Return a random integer between 0 (inclusive) and 2**k (exclusive).\"\"\"\n",
        "    result = 0\n",
        "    ints_needed = (k+31)//32\n",
        "    ints_used = 0\n",
        "    while ints_used < ints_needed:\n",
        "        if self.rand_count == 256:\n",
        "            self._generate()\n",
        "        ints_to_take = min(256-self.rand_count, ints_needed)\n",
        "        for val in self.rand_result[self.rand_count : self.rand_count+ints_to_take]:\n",
        "            result = (result << 32) | val\n",
        "        self.rand_count += ints_to_take\n",
        "        ints_used += ints_to_take\n",
        "    result &= ((1<<k)-1)    # mask off extra bits, if any\n",
        "    return result\n",
        " \n",
        "  def random(self):\n",
        "    \"\"\"Return a random float between 0 (inclusive) and 1 (exclusive).\"\"\"\n",
        "    # A double stores 53 significant bits, so scale a 53-bit integer into the [0..1) range.\n",
        "    return self.getrandbits(53) * (2**-53)\n",
        "\n",
        "  def rand_char(self):\n",
        "    \"\"\"Return a random integer from the printable ASCII range [32..126].\"\"\"\n",
        "    return self.next_int() % 95 + 32"
      ],
      "execution_count": null,
      "outputs": []
    },
    {
      "cell_type": "markdown",
      "metadata": {
        "id": "8fBH1uSJERYp"
      },
      "source": [
        "<p> Let's run and test the code we implemented. </p>"
      ]
    },
    {
      "cell_type": "code",
      "metadata": {
        "colab": {
          "base_uri": "https://localhost:8080/"
        },
        "id": "ZO67uMXZEXWp",
        "outputId": "7b74bd3b-4699-4e0b-a058-0fe96c17b02f"
      },
      "source": [
        "isaac = ISAAC()\n",
        "message = isaac.getrandbits(15)\n",
        "print(\"The generated number after applying ISAAC is: \" + str(message))\n",
        "messageBinary = [int(number) for number in str(bin(message))[2:]]\n",
        "print(\"The generated number in Binary after applying ISAAC is: \" + str(messageBinary))"
      ],
      "execution_count": null,
      "outputs": [
        {
          "output_type": "stream",
          "name": "stdout",
          "text": [
            "The generated number after applying ISAAC is: 4424\n",
            "The generated number in Binary after applying ISAAC is: [1, 0, 0, 0, 1, 0, 1, 0, 0, 1, 0, 0, 0]\n"
          ]
        }
      ]
    },
    {
      "cell_type": "markdown",
      "metadata": {
        "id": "iP32R1cOHHTW"
      },
      "source": [
        "<p> Now, we can combine it with the one-time pad algorithm and run the encryption and decryption of the message.</p>"
      ]
    },
    {
      "cell_type": "code",
      "metadata": {
        "colab": {
          "base_uri": "https://localhost:8080/"
        },
        "id": "DQMVdKUUHSeD",
        "outputId": "f265c5d5-89cd-4913-ab3e-759a0c2eb2f4"
      },
      "source": [
        "print(\"The generated number after applying ISAAC is: \")\n",
        "print(messageBinary)\n",
        "message = str(messageBinary).strip('[]').split(\", \")\n",
        "\n",
        "messageLength = len(message)\n",
        "key = randomKey(messageLength)\n",
        "print(\"The random key generated using one-time pad is: \" + key)\n",
        "\n",
        "encryptedMessage = encrypt(message, key)\n",
        "print(\"The encrypted message using XOR is: \" + encryptedMessage)\n",
        "\n",
        "decryptedMessage = decrypt(encryptedMessage, key)\n",
        "print(\"The decrypted message using XOR is: \" + decryptedMessage)"
      ],
      "execution_count": null,
      "outputs": [
        {
          "output_type": "stream",
          "name": "stdout",
          "text": [
            "The generated number after applying ISAAC is: \n",
            "[1, 0, 0, 0, 1, 0, 1, 0, 0, 1, 0, 0, 0]\n",
            "The random key generated using one-time pad is: 1101000100001\n",
            "The encrypted message using XOR is: 0101101101001\n",
            "The decrypted message using XOR is: 1000101001000\n"
          ]
        }
      ]
    },
    {
      "cell_type": "markdown",
      "metadata": {
        "id": "12ellCEnHqrP"
      },
      "source": [
        "<p> In the context of Internet of Things, we have some fundamental problems. As the prime numbers increase, the security in use also increases which can lead to: \n",
        "  <ul>\n",
        "    <li>Longer calculations, meaning more energy consumption.</li>\n",
        "    <li>Larger size of numbers to be manipulated so more memory usage.</li>\n",
        "    <li>Increases in cryptogram leads to increases in the size of the data to be sent.</li>\n",
        "  </ul>\n",
        "</p>\n",
        "<p> So, in terms of Internet of Things, when it comes to security there is always one or more compromise. In other words, the greater the security, the greater the need for power, and the shorter the life of the network.</p>"
      ]
    },
    {
      "cell_type": "markdown",
      "metadata": {
        "id": "_ysZ6-HTIpfh"
      },
      "source": [
        "<h2><b> IV- FAST EXPONENTIATION </b></h2>\n",
        "\n",
        "<p>Various operations in cryptography require the calculation of a multiple or a power. Fast exponentiation is a classical technique, used in practice, to obtain the power of a given number.</p>\n",
        "\n",
        "<p> In order to calculate $X^{e}$, we can apply one of the following operations:\n",
        "  <ul>\n",
        "    <li>Square Elevation.</li>\n",
        "    <li>Multiplication by X.</li>\n",
        "  </ul>\n",
        "</p>\n",
        "\n",
        "<p>In a recursive version, \n",
        "  <ul>\n",
        "    <li> If e is even, we calculate $X^{e/2}$ and multiply it by itself.</li>\n",
        "    <li>If not, we calculate $X^{e-1}$ and multiply it by X.</li>\n",
        "  </ul>\n",
        "</p>\n",
        "\n",
        "<p> Let's implement the Fast Exponentiation algorithm.</p>\n",
        "<p> First, let's implement the function that changes the 1 and 0 to SX and S in a message.</p>"
      ]
    },
    {
      "cell_type": "code",
      "metadata": {
        "id": "xc1zW-ljMZeN"
      },
      "source": [
        "def changeMessage(x, e):\n",
        "  binaryMessage = bin(e)[2:]\n",
        "  binaryMessage = binaryMessage.replace('1','',1)\n",
        "  changedMessage = ''\n",
        "  for i in binaryMessage:\n",
        "    if(i == '0'):\n",
        "      changedMessage += 'S'\n",
        "    else:\n",
        "      changedMessage += 'SX'\n",
        "  return changedMessage"
      ],
      "execution_count": null,
      "outputs": []
    },
    {
      "cell_type": "markdown",
      "metadata": {
        "id": "lkoJQ9h7NrRK"
      },
      "source": [
        "<p> Now, we will implement the fastExponentiation function that will compute the fast power and return the generated number.</p>"
      ]
    },
    {
      "cell_type": "code",
      "metadata": {
        "id": "x9CaclLeOAwJ"
      },
      "source": [
        "def fastExponentiation(x, e):\n",
        "  changedMessage = changeMessage(x, e)\n",
        "  result = e\n",
        "  for message in changedMessage:\n",
        "    if message == 'S':\n",
        "      result = result*result\n",
        "    else:\n",
        "      result = result*x\n",
        "  return result"
      ],
      "execution_count": null,
      "outputs": []
    },
    {
      "cell_type": "markdown",
      "metadata": {
        "id": "O8WUUjg7OSf_"
      },
      "source": [
        "<p> Let's run the code and see the result we got.</p>"
      ]
    },
    {
      "cell_type": "code",
      "metadata": {
        "colab": {
          "base_uri": "https://localhost:8080/"
        },
        "id": "AQt4bw6uOXT8",
        "outputId": "fc758d04-7008-4bd2-b163-577adb421cae"
      },
      "source": [
        "changedMessage = changeMessage('10011',3)\n",
        "print(\"The changed message is: \" + changedMessage)\n",
        "message = fastExponentiation('10011',3)\n",
        "print(\"The generated number after applying the Fast Exponentiation is: \" + message)"
      ],
      "execution_count": null,
      "outputs": [
        {
          "output_type": "stream",
          "name": "stdout",
          "text": [
            "The changed message is: SX\n",
            "The generated number after applying the Fast Exponentiation is: 100111001110011100111001110011100111001110011\n"
          ]
        }
      ]
    },
    {
      "cell_type": "markdown",
      "metadata": {
        "id": "yzghH1PHQvu1"
      },
      "source": [
        "<p> Now we can run the one-time pad algorithm with the generated number using the Fast Exponentiation algorithm.</p>"
      ]
    },
    {
      "cell_type": "code",
      "metadata": {
        "colab": {
          "base_uri": "https://localhost:8080/"
        },
        "id": "Qn3sdD53RIFr",
        "outputId": "ef70f1e4-790e-4f88-ac0b-9741862dba71"
      },
      "source": [
        "print(\"The generated number after applying the Fast Exponentiation is: \" + message)\n",
        "\n",
        "messageLength = len(message)\n",
        "key = randomKey(messageLength)\n",
        "print(\"The random key generated using one-time pad is: \" + key)\n",
        "\n",
        "encryptedMessage = encrypt(message, key)\n",
        "print(\"The encrypted message using XOR is: \" + encryptedMessage)\n",
        "\n",
        "decryptedMessage = decrypt(encryptedMessage, key)\n",
        "print(\"The decrypted message using XOR is: \" + decryptedMessage)"
      ],
      "execution_count": null,
      "outputs": [
        {
          "output_type": "stream",
          "name": "stdout",
          "text": [
            "The generated number after applying the Fast Exponentiation is: 100111001110011100111001110011100111001110011\n",
            "The random key generated using one-time pad is: 011111010001111010110000010100001110001011101\n",
            "The encrypted message using XOR is: 111000011111100110001001100111101001000101110\n",
            "The decrypted message using XOR is: 100111001110011100111001110011100111001110011\n"
          ]
        }
      ]
    },
    {
      "cell_type": "markdown",
      "metadata": {
        "id": "V0_zzPMYRgF5"
      },
      "source": [
        "<p> The Fast Exponentiation algorithm does not always give us the fastest method. More efficient techniques exist such as the addition strings.</p> "
      ]
    },
    {
      "cell_type": "markdown",
      "metadata": {
        "id": "FdgT1dhYR-H2"
      },
      "source": [
        "<h2><b>V- ARITHMETICS FOR SECURITY</b></h2>\n",
        "\n",
        "<p> Security problems nowadays are mostly based on finding the prime factors of a large integer. So far, no solution has been implemented. </p>\n",
        "\n",
        "<p> We will be applying three methods to obtain large prime numbers and see how each method is better than the one before.</p>\n",
        "\n",
        "<h4><b> V.1 - ERATOSTHENES' SIEVE </b></h4>\n",
        "\n",
        "<p> In mathematics, the sieve of Eratosthenes is an ancient algorithm for finding all prime numbers up to any given limit.</p>\n",
        "\n",
        "<p> The steps taken to generate the prime number are the following:\n",
        "  <ul>\n",
        "    <li>Create a list of integers from 2 to N.</p>\n",
        "    <li>Delete all the multiples of 2 from the list, then the multiples of 3, 5, etc.</p>\n",
        "    <li>Stop when we reach N/2.</p>\n",
        "  </ul>\n",
        "</p>\n",
        "\n",
        "<p> Let's implement the Eratosthenes.</p>"
      ]
    },
    {
      "cell_type": "code",
      "metadata": {
        "id": "mgg6hn2ek2g8"
      },
      "source": [
        "def SieveOfEratosthenes(desiredLength):\n",
        "  prime = [True for i in range(desiredLength + 1)]\n",
        "  p = 2\n",
        "  while (p * p <= desiredLength):\n",
        "    if (prime[p] == True):\n",
        "      for i in range(p ** 2, desiredLength + 1, p):\n",
        "        prime[i] = False\n",
        "    p += 1\n",
        "  prime[0]= False\n",
        "  prime[1]= False\n",
        "  # Print all prime numbers\n",
        "  for p in range(desiredLength + 1):\n",
        "    if prime[p]:\n",
        "      print(p) #Use print(p) for python 3"
      ],
      "execution_count": null,
      "outputs": []
    },
    {
      "cell_type": "markdown",
      "metadata": {
        "id": "z9WnCR7ploLI"
      },
      "source": [
        "<p> We can now test this function with the desired limit to reach. It will print all the prime numbers from 2 till this limit and the last number will be the largest prime number <= limit. </p>"
      ]
    },
    {
      "cell_type": "code",
      "metadata": {
        "colab": {
          "base_uri": "https://localhost:8080/"
        },
        "id": "5eOHG7P0l478",
        "outputId": "6b11e004-4192-4229-b987-c60c628a5135"
      },
      "source": [
        "limit = 1000\n",
        "SieveOfEratosthenes(limit)"
      ],
      "execution_count": null,
      "outputs": [
        {
          "output_type": "stream",
          "name": "stdout",
          "text": [
            "2\n",
            "3\n",
            "5\n",
            "7\n",
            "11\n",
            "13\n",
            "17\n",
            "19\n",
            "23\n",
            "29\n",
            "31\n",
            "37\n",
            "41\n",
            "43\n",
            "47\n",
            "53\n",
            "59\n",
            "61\n",
            "67\n",
            "71\n",
            "73\n",
            "79\n",
            "83\n",
            "89\n",
            "97\n",
            "101\n",
            "103\n",
            "107\n",
            "109\n",
            "113\n",
            "127\n",
            "131\n",
            "137\n",
            "139\n",
            "149\n",
            "151\n",
            "157\n",
            "163\n",
            "167\n",
            "173\n",
            "179\n",
            "181\n",
            "191\n",
            "193\n",
            "197\n",
            "199\n",
            "211\n",
            "223\n",
            "227\n",
            "229\n",
            "233\n",
            "239\n",
            "241\n",
            "251\n",
            "257\n",
            "263\n",
            "269\n",
            "271\n",
            "277\n",
            "281\n",
            "283\n",
            "293\n",
            "307\n",
            "311\n",
            "313\n",
            "317\n",
            "331\n",
            "337\n",
            "347\n",
            "349\n",
            "353\n",
            "359\n",
            "367\n",
            "373\n",
            "379\n",
            "383\n",
            "389\n",
            "397\n",
            "401\n",
            "409\n",
            "419\n",
            "421\n",
            "431\n",
            "433\n",
            "439\n",
            "443\n",
            "449\n",
            "457\n",
            "461\n",
            "463\n",
            "467\n",
            "479\n",
            "487\n",
            "491\n",
            "499\n",
            "503\n",
            "509\n",
            "521\n",
            "523\n",
            "541\n",
            "547\n",
            "557\n",
            "563\n",
            "569\n",
            "571\n",
            "577\n",
            "587\n",
            "593\n",
            "599\n",
            "601\n",
            "607\n",
            "613\n",
            "617\n",
            "619\n",
            "631\n",
            "641\n",
            "643\n",
            "647\n",
            "653\n",
            "659\n",
            "661\n",
            "673\n",
            "677\n",
            "683\n",
            "691\n",
            "701\n",
            "709\n",
            "719\n",
            "727\n",
            "733\n",
            "739\n",
            "743\n",
            "751\n",
            "757\n",
            "761\n",
            "769\n",
            "773\n",
            "787\n",
            "797\n",
            "809\n",
            "811\n",
            "821\n",
            "823\n",
            "827\n",
            "829\n",
            "839\n",
            "853\n",
            "857\n",
            "859\n",
            "863\n",
            "877\n",
            "881\n",
            "883\n",
            "887\n",
            "907\n",
            "911\n",
            "919\n",
            "929\n",
            "937\n",
            "941\n",
            "947\n",
            "953\n",
            "967\n",
            "971\n",
            "977\n",
            "983\n",
            "991\n",
            "997\n"
          ]
        }
      ]
    },
    {
      "cell_type": "markdown",
      "metadata": {
        "id": "qYnre79WmGo0"
      },
      "source": [
        "<h4><b> V.2 - A FERMAT THEOREM </b></h4>\n",
        "\n",
        "<p>Fermat’s theorem, also known as Fermat’s little theorem and Fermat’s primality test. The theorem says that for any prime number <i>$p$</i> and any integer <i>$a$</i> such that <i>$p$</i> does not divide <i>$a$</i> (the pair are relatively prime), <i>$p$</i> divides exactly into <i>$a_p$ − $a$</i>.</p>\n",
        "\n",
        "<p>To obtain a large prime number, the idea is to draw a large number of digits, concatenate them as a number, and then test if this number is prime.</p>\n",
        "\n",
        "<p> Let's implement Fermat's theorem by starting with some basic testing and then diving in more deeply.</p>\n",
        "\n",
        "<p> First, we will start by implementing a function that tests if a number is prime or not by checking if the last digit is different than 0, 2, 4, 5, 6 and 8.</p>"
      ]
    },
    {
      "cell_type": "code",
      "metadata": {
        "id": "cjCf6XLnnrYb"
      },
      "source": [
        "def checkIfPrimeV1(number):\n",
        "  st = str(number)\n",
        "  sz = len(st)\n",
        "  if sz >= 2:\n",
        "    if int(st[sz - 1]) != 0 and int(st[sz - 1]) != 2 and int(st[sz - 1]) != 4 and int(st[sz - 1]) != 5 and int(st[sz - 1]) != 6 and int(st[sz - 1]) != 8:\n",
        "      return True\n",
        "    else:\n",
        "      return False\n",
        "  else:\n",
        "    print(\"The number should be composed of at least 2 digits!\")\n"
      ],
      "execution_count": null,
      "outputs": []
    },
    {
      "cell_type": "markdown",
      "metadata": {
        "id": "bUcrXhiyo7gF"
      },
      "source": [
        "<p>Let's test the checkIfPrimeV1 function with different numbers.</p>"
      ]
    },
    {
      "cell_type": "code",
      "metadata": {
        "colab": {
          "base_uri": "https://localhost:8080/"
        },
        "id": "p__V-ZefpEbh",
        "outputId": "ffc38cc8-8253-4761-dff1-54c5ecd27b32"
      },
      "source": [
        "if checkIfPrimeV1(12358):\n",
        "  print(\"12358 is prime!\")\n",
        "else:\n",
        "  print(\"12358 is not prime!\")\n",
        "\n",
        "if checkIfPrimeV1(12483):\n",
        "  print(\"12483 is prime!\")\n",
        "else:\n",
        "  print(\"12483 is not prime!\")\n",
        "\n",
        "if checkIfPrimeV1(5841679):\n",
        "  print(\"5841679 is prime!\")\n",
        "else:\n",
        "  print(\"5841679 is not prime!\")\n",
        "\n",
        "if checkIfPrimeV1(14385):\n",
        "  print(\"14385 is prime!\")\n",
        "else:\n",
        "  print(\"14385 is not prime!\")"
      ],
      "execution_count": null,
      "outputs": [
        {
          "output_type": "stream",
          "name": "stdout",
          "text": [
            "12358 is not prime!\n",
            "12483 is prime!\n",
            "5841679 is prime!\n",
            "14385 is not prime!\n"
          ]
        }
      ]
    },
    {
      "cell_type": "markdown",
      "metadata": {
        "id": "6Z5T8lJGpsCX"
      },
      "source": [
        "<p> We can now implement a function a bit more complex based on:</p>\n",
        "<p align = \"center\"> $a_n≡a[n]$</p>\n",
        "<p>First, we'll implement the gcd function.</p>"
      ]
    },
    {
      "cell_type": "code",
      "metadata": {
        "id": "LFLqt2UnqFmX"
      },
      "source": [
        "def gcd(a,b):\n",
        "  if(b == 0):\n",
        "    return a\n",
        "  else:\n",
        "    return gcd(b, a % b)"
      ],
      "execution_count": null,
      "outputs": []
    },
    {
      "cell_type": "markdown",
      "metadata": {
        "id": "D8VQOcPprh8_"
      },
      "source": [
        "<p> Then, we will implement the power function that computes x^y under modulo m</p>"
      ]
    },
    {
      "cell_type": "code",
      "metadata": {
        "id": "d3IZZDIwrtZN"
      },
      "source": [
        "def power(x,y,m):\n",
        "  if (y == 0):\n",
        "    return 1\n",
        "  p = power(x, y // 2, m) % m\n",
        "  p = (p * p) % m\n",
        "\n",
        "  return p if(y % 2 == 0) else  (x * p) % m"
      ],
      "execution_count": null,
      "outputs": []
    },
    {
      "cell_type": "markdown",
      "metadata": {
        "id": "vE0C8COfsGQ_"
      },
      "source": [
        "<p>To get the modular inverse, we will implement the modInverse function. If a and m are relatively prime, then the modulo inverse is a^(m-2) mode m.</p>"
      ]
    },
    {
      "cell_type": "code",
      "metadata": {
        "id": "otjDxNQWsXoX"
      },
      "source": [
        "def modInverse(a,m):\n",
        "  if (gcd(a, m) != 1):\n",
        "    print(\"Inverse doesn't exist\")\n",
        "  else:\n",
        "    print(\"Modular multiplicative inverse of \" + str(a) + \" and \" + str(m) + \" is: \", power(a, m - 2, m))"
      ],
      "execution_count": null,
      "outputs": []
    },
    {
      "cell_type": "markdown",
      "metadata": {
        "id": "Bzl-OJf8sert"
      },
      "source": [
        "<p>Let's test the functions we wrote on some numbers combinations.</p>"
      ]
    },
    {
      "cell_type": "code",
      "metadata": {
        "colab": {
          "base_uri": "https://localhost:8080/"
        },
        "id": "jMIf3F3CslOu",
        "outputId": "30c7b6ab-636f-4e3e-f2fa-a4ad73e6125b"
      },
      "source": [
        "modInverse(3, 13)\n",
        "modInverse(2, 17)\n",
        "modInverse(4, 19)\n",
        "modInverse(5, 23)"
      ],
      "execution_count": null,
      "outputs": [
        {
          "output_type": "stream",
          "name": "stdout",
          "text": [
            "Modular multiplicative inverse of 3 and 13 is:  9\n",
            "Modular multiplicative inverse of 2 and 17 is:  9\n",
            "Modular multiplicative inverse of 4 and 19 is:  5\n",
            "Modular multiplicative inverse of 5 and 23 is:  14\n"
          ]
        }
      ]
    },
    {
      "cell_type": "markdown",
      "metadata": {
        "id": "6K2qebpjtsNw"
      },
      "source": [
        "<h4><b> V.3 - MILLER-RABIN </b></h4>\n",
        "\n",
        "<p>The Miller–Rabin primality test or Rabin–Miller primality test is a probabilistic primality test: an algorithm which determines whether a given number is likely to be prime.</p>\n",
        "\n",
        "<p>For a given odd integer $n > 2$, let’s write n as $2^s⋅d + 1$ where s and d are positive integers and d is odd. Let’s consider an integer a, called a base, such that $0 < a < n$. Then, n is said to be a strong probable prime to base a if one of these congruence relations holds:\n",
        "  <ul>\n",
        "    <li>$a^d≡1$ (mod n).</li>\n",
        "    <li>$a^{2^r+d}≡-1$ (mod n) with 0 <= r < s.</li>\n",
        "  </ul>\n",
        "</p>\n",
        "<p>This test is very effective in measuring the primality of large integers. So, let's implement the algorithm.</p>\n",
        "<p> We start by defining the power function that computes the modular exponentiation.</p>\n"
      ]
    },
    {
      "cell_type": "code",
      "metadata": {
        "id": "JADxVBVxwKKE"
      },
      "source": [
        "def power(x, y, p):\n",
        "  result = 1\n",
        "  x = x % p\n",
        "  while (y > 0):\n",
        "    if (y & 1):\n",
        "      result = (result * x) % p\n",
        "    y = y>>1\n",
        "    x = (x * x) % p\n",
        "    \n",
        "  return result"
      ],
      "execution_count": null,
      "outputs": []
    },
    {
      "cell_type": "markdown",
      "metadata": {
        "id": "xasZmkzCwVLf"
      },
      "source": [
        "<p>Then, we define the miillerTest function. It returns false if the number is composite and true if it's probably prime.</p>"
      ]
    },
    {
      "cell_type": "code",
      "metadata": {
        "id": "Rg-7wj-awnFK"
      },
      "source": [
        "def miillerTest(d, n):\n",
        "  a = 2 + random.randint(1, n - 4)\n",
        "  x = power(a, d, n)\n",
        "\n",
        "  if (x == 1 or x == n - 1):\n",
        "    return True\n",
        "  while (d != n - 1):\n",
        "    x = (x * x) % n\n",
        "    d *= 2\n",
        "    if (x == 1):\n",
        "        return False\n",
        "    if (x == n - 1):\n",
        "        return True\n",
        "\n",
        "  return False"
      ],
      "execution_count": null,
      "outputs": []
    },
    {
      "cell_type": "markdown",
      "metadata": {
        "id": "YRuuXUoew6da"
      },
      "source": [
        "<p>And lastly, we implement the isPrime function to check if the number is prime or not.</p>"
      ]
    },
    {
      "cell_type": "code",
      "metadata": {
        "id": "BjDQAU4DxSMI"
      },
      "source": [
        "def isPrime(n, k):\n",
        "  if (n <= 1 or n == 4):\n",
        "    return False\n",
        "  if (n <= 3):\n",
        "    return True\n",
        "\n",
        "  d = n - 1\n",
        "  while (d % 2 == 0):\n",
        "    d //= 2\n",
        "\n",
        "  # Iterate given nber of 'k' times\n",
        "  for i in range(k):\n",
        "    if (miillerTest(d, n) == False):\n",
        "      return False\n",
        "\n",
        "  return True"
      ],
      "execution_count": null,
      "outputs": []
    },
    {
      "cell_type": "markdown",
      "metadata": {
        "id": "V27HzMp2xgYN"
      },
      "source": [
        "<p>Now we can test the Miller-Rabin algorithm.</p>\n"
      ]
    },
    {
      "cell_type": "code",
      "metadata": {
        "colab": {
          "base_uri": "https://localhost:8080/"
        },
        "id": "T1YIGA0FxlrA",
        "outputId": "5617abca-e2f7-4b9d-b68e-c7a234e70522"
      },
      "source": [
        "k = 4;\n",
        "print(\"All primes smaller than 1000: \");\n",
        "for n in range(1,1000):\n",
        "  if (isPrime(n, k)):\n",
        "    print(n);"
      ],
      "execution_count": null,
      "outputs": [
        {
          "output_type": "stream",
          "name": "stdout",
          "text": [
            "All primes smaller than 1000: \n",
            "2\n",
            "3\n",
            "5\n",
            "7\n",
            "11\n",
            "13\n",
            "17\n",
            "19\n",
            "23\n",
            "29\n",
            "31\n",
            "37\n",
            "41\n",
            "43\n",
            "47\n",
            "53\n",
            "59\n",
            "61\n",
            "67\n",
            "71\n",
            "73\n",
            "79\n",
            "83\n",
            "89\n",
            "97\n",
            "101\n",
            "103\n",
            "107\n",
            "109\n",
            "113\n",
            "127\n",
            "131\n",
            "137\n",
            "139\n",
            "149\n",
            "151\n",
            "157\n",
            "163\n",
            "167\n",
            "173\n",
            "179\n",
            "181\n",
            "191\n",
            "193\n",
            "197\n",
            "199\n",
            "211\n",
            "223\n",
            "227\n",
            "229\n",
            "233\n",
            "239\n",
            "241\n",
            "251\n",
            "257\n",
            "263\n",
            "269\n",
            "271\n",
            "277\n",
            "281\n",
            "283\n",
            "293\n",
            "307\n",
            "311\n",
            "313\n",
            "317\n",
            "331\n",
            "337\n",
            "347\n",
            "349\n",
            "353\n",
            "359\n",
            "367\n",
            "373\n",
            "379\n",
            "383\n",
            "389\n",
            "397\n",
            "401\n",
            "409\n",
            "419\n",
            "421\n",
            "431\n",
            "433\n",
            "439\n",
            "443\n",
            "449\n",
            "457\n",
            "461\n",
            "463\n",
            "467\n",
            "479\n",
            "487\n",
            "491\n",
            "499\n",
            "503\n",
            "509\n",
            "521\n",
            "523\n",
            "541\n",
            "547\n",
            "557\n",
            "563\n",
            "569\n",
            "571\n",
            "577\n",
            "587\n",
            "593\n",
            "599\n",
            "601\n",
            "607\n",
            "613\n",
            "617\n",
            "619\n",
            "631\n",
            "641\n",
            "643\n",
            "647\n",
            "653\n",
            "659\n",
            "661\n",
            "673\n",
            "677\n",
            "683\n",
            "691\n",
            "701\n",
            "709\n",
            "719\n",
            "727\n",
            "733\n",
            "739\n",
            "743\n",
            "751\n",
            "757\n",
            "761\n",
            "769\n",
            "773\n",
            "787\n",
            "797\n",
            "809\n",
            "811\n",
            "821\n",
            "823\n",
            "827\n",
            "829\n",
            "839\n",
            "853\n",
            "857\n",
            "859\n",
            "863\n",
            "877\n",
            "881\n",
            "883\n",
            "887\n",
            "907\n",
            "911\n",
            "919\n",
            "929\n",
            "937\n",
            "941\n",
            "947\n",
            "953\n",
            "967\n",
            "971\n",
            "977\n",
            "983\n",
            "991\n",
            "997\n"
          ]
        }
      ]
    },
    {
      "cell_type": "markdown",
      "metadata": {
        "id": "8bU9vp9ZySGI"
      },
      "source": [
        "<h2><b>VI- DIFFIE–HELLMAN KEY EXCHANGE </b></h2>\n",
        "\n",
        "<p>Diffie–Hellman key exchange[nb 1] is a method of securely exchanging cryptographic keys over a public channel. DH is one of the earliest practical examples of public key exchange implemented within the field of cryptography.</p>\n",
        "<p> Diffie-Hellman works on the principle of not sharing the encryption key over the wire completely. Instead, each party consists of a public key and a private key.</p>\n",
        "\n",
        "<p>Let's implement this algorithm by defining a DiffieHellman class with its functionalities.</p>"
      ]
    },
    {
      "cell_type": "code",
      "metadata": {
        "id": "IoWowpMQzq4x"
      },
      "source": [
        "class DiffieHellman():\n",
        "  def __init__(self, publicKey1, publicKey2, privateKey):\n",
        "    self.publicKey1 = publicKey1\n",
        "    self.publicKey2 = publicKey2\n",
        "    self.privateKey = privateKey\n",
        "    self.fullKey = None\n",
        "        \n",
        "  def generatePartialKey(self):\n",
        "    partialKey = self.publicKey1**self.privateKey\n",
        "    partialKey = partialKey%self.publicKey2\n",
        "    return partialKey\n",
        "    \n",
        "  def generateFullKey(self, partialKeyR):\n",
        "    fullKey = partialKeyR**self.privateKey\n",
        "    fullKey = fullKey%self.publicKey2\n",
        "    self.fullKey = fullKey\n",
        "    return fullKey\n",
        "  \n",
        "  def encryptMessage(self, message):\n",
        "    encryptedMessage = \"\"\n",
        "    key = self.fullKey\n",
        "    for c in message:\n",
        "      encryptedMessage += chr(ord(c)+key)\n",
        "    return encryptedMessage\n",
        "  \n",
        "  def decryptMessage(self, encryptedMessage):\n",
        "    decryptedMessage = \"\"\n",
        "    key = self.fullKey\n",
        "    for c in encryptedMessage:\n",
        "      decryptedMessage += chr(ord(c)-key)\n",
        "    return decryptedMessage\n"
      ],
      "execution_count": null,
      "outputs": []
    },
    {
      "cell_type": "markdown",
      "metadata": {
        "id": "n9Q8K1Hv0UP9"
      },
      "source": [
        "<p>Now that we implemented the class with all the functions needed, we can test how it is encrypting and decrypting the message.</p>"
      ]
    },
    {
      "cell_type": "code",
      "metadata": {
        "colab": {
          "base_uri": "https://localhost:8080/"
        },
        "id": "W3ZgEIia0eXe",
        "outputId": "c509ff95-4bd4-422f-b498-37daeda51a6e"
      },
      "source": [
        "message=\"This is a top secret message!!!\"\n",
        "oliverPublic=197\n",
        "oliverPrivate=199\n",
        "dominicPublic=151\n",
        "dominicPrivate=157\n",
        "Oliver = DiffieHellman(oliverPublic, dominicPublic, oliverPrivate)\n",
        "Dominic = DiffieHellman(oliverPublic, dominicPublic, dominicPrivate)\n",
        "\n",
        "print(\"The original message is: \" + message)\n",
        "print(\"----------------------------------------------------------------\")\n",
        "\n",
        "#Exchanging partial key\n",
        "oliverPartial = Oliver.generatePartialKey()\n",
        "print(\"Oliver's generated partial key is: \" + str(oliverPartial))\n",
        "dominicPartial = Dominic.generatePartialKey()\n",
        "print(\"Dominic's generated partial key is: \" + str(dominicPartial))\n",
        "\n",
        "print(\"----------------------------------------------------------------\")\n",
        "\n",
        "#Generating full key\n",
        "oliverFull = Oliver.generateFullKey(oliverPartial)\n",
        "print(\"Oliver's generated full key is: \" + str(oliverFull))\n",
        "dominicFull = Dominic.generateFullKey(dominicPartial)\n",
        "print(\"Dominic's generated full key is: \" + str(dominicFull))\n",
        "\n",
        "print(\"----------------------------------------------------------------\")\n",
        "\n",
        "#Encryption\n",
        "oliverEncrypted = Oliver.encryptMessage(message)\n",
        "print(\"Oliver's encrypted message is: \" + str(oliverEncrypted))\n",
        "dominicEncrypted = Dominic.encryptMessage(message)\n",
        "print(\"Dominic's encrypted message is: \" + str(dominicEncrypted))\n",
        "\n",
        "print(\"----------------------------------------------------------------\")\n",
        "\n",
        "#Decryption\n",
        "oliverDecrypted = Oliver.decryptMessage(oliverEncrypted)\n",
        "print(\"Oliver's decrypted message is: \" + str(oliverDecrypted))\n",
        "dominicDecrypted = Dominic.decryptMessage(dominicEncrypted)\n",
        "print(\"Dominic's decrypted message is: \" + str(dominicDecrypted))"
      ],
      "execution_count": null,
      "outputs": [
        {
          "output_type": "stream",
          "name": "stdout",
          "text": [
            "The original message is: This is a top secret message!!!\n",
            "----------------------------------------------------------------\n",
            "Oliver's generated partial key is: 147\n",
            "Dominic's generated partial key is: 66\n",
            "----------------------------------------------------------------\n",
            "Oliver's generated full key is: 46\n",
            "Dominic's generated full key is: 147\n",
            "----------------------------------------------------------------\n",
            "Oliver's encrypted message is: ¡N¡NN¢N¡ ¢N¡¡OOO\n",
            "Dominic's encrypted message is: çûüĆ³üĆ³ô³ćĂă³Ćøöąøć³ĀøĆĆôúø´´´\n",
            "----------------------------------------------------------------\n",
            "Oliver's decrypted message is: This is a top secret message!!!\n",
            "Dominic's decrypted message is: This is a top secret message!!!\n"
          ]
        }
      ]
    },
    {
      "cell_type": "markdown",
      "metadata": {
        "id": "A3rON7GY3W_H"
      },
      "source": [
        "<h2><b>VII- ASYMETRIC ENCRYPTION ALGORITHMS</b></h2>\n",
        "\n",
        "<p>Asymmetric cryptography is a branch of cryptography where a secret key can be divided into two parts, a public key and a private key. The public key can be given to anyone, trusted or not, while the private key must be kept secret (just like the key in symmetric cryptography).</p>\n",
        "\n",
        "<p>Asymmetric cryptography has two primary use cases: authentication and confidentiality. Using asymmetric cryptography, messages can be signed with a private key, and then anyone with the public key is able to verify that the message was created by someone possessing the corresponding private key.</p>\n",
        "\n",
        "<h4><b> VII.1 - RSA </b></h4>\n",
        "<p>RSA is the most widespread and used public key algorithm. Its security is based on the difficulty of factoring large integers. The algorithm can be used for both confidentiality (encryption) and authentication (digital signature).</p>\n",
        "\n",
        "<p>RSA encryption uses the fact that, for well-chosen keys :</p>\n",
        "<p align=\"center\"> $(t^c)^d$ % $n$ = $t$ % $n$</p>\n",
        "\n",
        "<p>In other words, $(t^c)^d$ ≡ t[n]</p>\n",
        "<p>where :  $(t^c)^d$ and $t$ have same modulo $n$ reduction.</p>\n",
        "\n",
        "<p>Three main functionalities define this algorithm:\n",
        "  <ul>\n",
        "    <li>Choosing the keys using Bezout's identity.</li>\n",
        "    <li>Encrypting the message.</li>\n",
        "    <li>Decrypting the message.</li>\n",
        "  </ul>\n",
        "</p>\n",
        "\n",
        "<p>Let's implement this algorithm by writing the first functions: gcd, multiplicativeInverse, isPrime and the generateKeys.</p>"
      ]
    },
    {
      "cell_type": "code",
      "metadata": {
        "id": "xH2KIEjf6tk_"
      },
      "source": [
        "def power(x, y, m):\n",
        "  if (y == 0):\n",
        "    return 1\n",
        "  p = power(x, y // 2, m) % m\n",
        "  p = (p * p) % m\n",
        "\n",
        "  return p if(y % 2 == 0) else  (x * p) % m\n",
        "\n",
        "def gcd(a, b):\n",
        "  if(b == 0):\n",
        "    return a\n",
        "  else:\n",
        "    return gcd(b, a % b)\n",
        "\n",
        "def multiplicativeinverse(a, m):\n",
        "  if (gcd(a, m) != 1):\n",
        "    return None\n",
        "  else:\n",
        "    return power(a, m - 2, m)\n",
        "\n",
        "def isPrime(num):\n",
        "  if num == 2:\n",
        "    return True\n",
        "  if num < 2 or num % 2 == 0:\n",
        "    return False\n",
        "  for n in range(3, int(num**0.5)+2, 2):\n",
        "    if num % n == 0:\n",
        "      return False\n",
        "  return True\n",
        "\n",
        "def generateKeypair(p, q):\n",
        "  if not (isPrime(p) and isPrime(q)):\n",
        "    raise ValueError('Both numbers must be prime.')\n",
        "  elif p == q:\n",
        "    raise ValueError('p and q cannot be equal')\n",
        "  #n = pq\n",
        "  n = p * q\n",
        "\n",
        "  #Phi is the totient of n\n",
        "  phi = (p-1) * (q-1)\n",
        "\n",
        "  #Choose an integer e such that e and phi(n) are coprime\n",
        "  e = random.randrange(1, phi)\n",
        "\n",
        "  #Use Euclid's Algorithm to verify that e and phi(n) are comprime\n",
        "  g = gcd(e, phi)\n",
        "  while g != 1:\n",
        "    e = random.randrange(1, phi)\n",
        "    g = gcd(e, phi)\n",
        "  #Use Extended Euclid's Algorithm to generate the private key\n",
        "  d = multiplicativeinverse(e, phi)\n",
        "  #Return public and private keypair\n",
        "  #Public key is (e, n) and private key is (d, n)\n",
        "  return ((e, n), (d, n))"
      ],
      "execution_count": null,
      "outputs": []
    },
    {
      "cell_type": "markdown",
      "metadata": {
        "id": "hd0xtu4W7gmT"
      },
      "source": [
        "<p>Next, we implement the encrypt function. </p>"
      ]
    },
    {
      "cell_type": "code",
      "metadata": {
        "id": "cA5iy3g_8JPV"
      },
      "source": [
        "def encrypt(pk, plaintext):\n",
        "    #Unpack the key into it's components\n",
        "    key, n = pk\n",
        "    #Convert each letter in the plaintext to numbers based on the character using a^b mod m\n",
        "    cipher = [(ord(char) ** key) % n for char in plaintext]\n",
        "    #Return the array of bytes\n",
        "    return cipher"
      ],
      "execution_count": null,
      "outputs": []
    },
    {
      "cell_type": "markdown",
      "metadata": {
        "id": "jrLh3MSz8aEW"
      },
      "source": [
        "<p>After that, we implement the decrypt function.</p>"
      ]
    },
    {
      "cell_type": "code",
      "metadata": {
        "id": "XmLL9eE08esI"
      },
      "source": [
        "def decrypt(pk, ciphertext):\n",
        "    #Unpack the key into its components\n",
        "    key, n = pk\n",
        "    #Generate the plaintext based on the ciphertext and key using a^b mod m\n",
        "    plain = [chr((char ** key) % n) for char in ciphertext]\n",
        "    #Return the array of bytes as a string\n",
        "    return ''.join(plain)"
      ],
      "execution_count": null,
      "outputs": []
    },
    {
      "cell_type": "markdown",
      "metadata": {
        "id": "OWvQMjBY8w0f"
      },
      "source": [
        "<p>Now, we can test the functions we wrote and see the encryption and decryption of the message.</p>"
      ]
    },
    {
      "cell_type": "code",
      "metadata": {
        "colab": {
          "base_uri": "https://localhost:8080/"
        },
        "id": "V13RzqnW85rJ",
        "outputId": "3e65f7e4-7698-45fe-ca8c-c9848e940a36"
      },
      "source": [
        "p = int(input(\"Enter a prime number (17, 19, 23, etc): \"))\n",
        "q = int(input(\"Enter another prime number (Not one you entered above): \"))\n",
        "print(\"Generating your public/private keypairs now . . .\")\n",
        "public, private = generateKeypair(p, q)\n",
        "print(\"Your public key is \" + str(public) + \" and your private key is \" + str(private))\n",
        "message = input(\"Enter a message to encrypt with your private key: \")\n",
        "encryptedMessage = encrypt(private, message)\n",
        "print(\"Your encrypted message is: \")\n",
        "print(''.join(map(lambda x: str(x), encryptedMessage)))"
      ],
      "execution_count": null,
      "outputs": [
        {
          "output_type": "stream",
          "name": "stdout",
          "text": [
            "Enter a prime number (17, 19, 23, etc): 17\n",
            "Enter another prime number (Not one you entered above): 23\n",
            "Generating your public/private keypairs now . . .\n",
            "Your public key is (95, 391) and your private key is (1, 391)\n",
            "Enter a message to encrypt with your private key: This is a top secret message!!!\n",
            "Your encrypted message is: \n",
            "841041051153210511532973211611111232115101991141011163210910111511597103101333333\n"
          ]
        }
      ]
    },
    {
      "cell_type": "markdown",
      "metadata": {
        "id": "yy2mOu7zRBFr"
      },
      "source": [
        "<h4><b> VII.2 - EL GAMAL </b></h4>\n",
        "\n",
        "<p>In cryptography, the ElGamal encryption system is an asymmetric key encryption algorithm for public-key cryptography. ElGamal encryption consists of three components: the key generator, the encryption algorithm, and the decryption algorithm.</p>\n",
        "\n",
        "<p>Suppose Alice wants to communicate to Bob. </p>\n",
        "<p>\n",
        "  <ol>\n",
        "    <li>Bob generates public and private key : \n",
        "      <ul>\n",
        "       <li>Bob chooses a very large number q and a cyclic group Fq.</li>\n",
        "        <li>From the cyclic group Fq, he choose any element g and\n",
        "an element a such that gcd(a, q) = 1.</li>\n",
        "        <li>Then he computes h = ga.</li>\n",
        "        <li>Bob publishes F, h = ga, q and g as his public key and retains a as private key.</li>\n",
        "      </ul>\n",
        "    </li>\n",
        "    <li>Alice encrypts data using Bob’s public key : \n",
        "      <ul>\n",
        "        <li>Alice selects an element k from cyclic group F \n",
        "such that gcd(k, q) = 1.</li>\n",
        "        <li>Then she computes p = gk and s = hk = gak.</li>\n",
        "        <li>She multiples s with M.</li>\n",
        "        <li>Then she sends (p, M*s) = (gk, M*s).</li>\n",
        "      </ul>\n",
        "    </li>\n",
        "    <li>Bob decrypts the message : \n",
        "      <ul>\n",
        "        <li>Bob calculates s′ = pa = gak.</li>\n",
        "        <li>He divides M*s by s′ to obtain M as s = s′.</li>\n",
        "      </ul>\n",
        "    </li>\n",
        "  </ol>\n",
        "</p>\n",
        "\n",
        "<p>Let's implement the ElGamal Encryption Algorithm.</p>\n",
        "\n",
        "<p>We start by implementing the gcd, power and generateKey functions.</p>\n"
      ]
    },
    {
      "cell_type": "code",
      "metadata": {
        "id": "BcEs7LoMTBIt"
      },
      "source": [
        "from math import pow\n",
        " \n",
        "a = random.randint(2, 10)\n",
        " \n",
        "def gcd(a, b):\n",
        "  if a < b:\n",
        "    return gcd(b, a)\n",
        "  elif a % b == 0:\n",
        "    return b;\n",
        "  else:\n",
        "    return gcd(b, a % b)\n",
        " \n",
        "# Generating large random numbers\n",
        "def generateKey(q):\n",
        "  key = random.randint(pow(10, 20), q)\n",
        "  while gcd(q, key) != 1:\n",
        "    key = random.randint(pow(10, 20), q)\n",
        "\n",
        "  return key\n",
        " \n",
        "# Modular exponentiation\n",
        "def power(a, b, c):\n",
        "  x = 1\n",
        "  y = a\n",
        "\n",
        "  while b > 0:\n",
        "    if b % 2 != 0:\n",
        "      x = (x * y) % c;\n",
        "    y = (y * y) % c\n",
        "    b = int(b / 2)\n",
        "\n",
        "  return x % c"
      ],
      "execution_count": null,
      "outputs": []
    },
    {
      "cell_type": "markdown",
      "metadata": {
        "id": "uOpSNlpSTHRm"
      },
      "source": [
        "<p>Next, we implement the encrypt function.</p>"
      ]
    },
    {
      "cell_type": "code",
      "metadata": {
        "id": "K2p7USmzTONx"
      },
      "source": [
        "# Asymmetric encryption\n",
        "def encrypt(message, q, h, g):\n",
        "  encryptedMessage = []\n",
        "\n",
        "  k = generateKey(q)# Private key for sender\n",
        "  s = power(h, k, q)\n",
        "  p = power(g, k, q)\n",
        "    \n",
        "  for i in range(0, len(message)):\n",
        "      encryptedMessage.append(message[i])\n",
        "\n",
        "  print(\"g^k used : \", p)\n",
        "  print(\"g^ak used : \", s)\n",
        "  for i in range(0, len(encryptedMessage)):\n",
        "      encryptedMessage[i] = s * ord(encryptedMessage[i])\n",
        "\n",
        "  return encryptedMessage, p"
      ],
      "execution_count": null,
      "outputs": []
    },
    {
      "cell_type": "markdown",
      "metadata": {
        "id": "ElwqUErGTQZP"
      },
      "source": [
        "<p>And finally, we implement the decrypt function.</p>"
      ]
    },
    {
      "cell_type": "code",
      "metadata": {
        "id": "xqJ8BfbJTUP0"
      },
      "source": [
        "def decrypt(encryptedMessage, p, key, q):\n",
        "  decryptedMessage = []\n",
        "  h = power(p, key, q)\n",
        "  for i in range(0, len(encryptedMessage)):\n",
        "      decryptedMessage.append(chr(int(encryptedMessage[i]/h)))\n",
        "        \n",
        "  return decryptedMessage"
      ],
      "execution_count": null,
      "outputs": []
    },
    {
      "cell_type": "markdown",
      "metadata": {
        "id": "_ZLgXwWLT4Cz"
      },
      "source": [
        "<p>Now, we can test the algorithm we implemented by applying an ElGamal Encryption on a message.</p>"
      ]
    },
    {
      "cell_type": "code",
      "metadata": {
        "colab": {
          "base_uri": "https://localhost:8080/"
        },
        "id": "dmEgSkGyUCaP",
        "outputId": "462e6613-33c9-4e19-ab1a-a672c73abe50"
      },
      "source": [
        "message = 'This is a top secret message!!!'\n",
        "print(\"The original message is:\", message)\n",
        "\n",
        "print(\"--------------------------------------------------------------\")\n",
        "\n",
        "q = random.randint(pow(10, 20), pow(10, 50))\n",
        "g = random.randint(2, q)\n",
        "\n",
        "key = generateKey(q)# Private key for receiver\n",
        "h = power(g, key, q)\n",
        "print(\"g used : \", g)\n",
        "print(\"g^a used : \", h)\n",
        "\n",
        "encryptedMessage, p = encrypt(message, q, h, g)\n",
        "print(\"The encrypted message is:\", encryptedMessage);\n",
        "\n",
        "decryptedMessage = decrypt(encryptedMessage, p, key, q)\n",
        "dmsg = ''.join(decryptedMessage)\n",
        "print(\"The decrypted message is:\", decryptedMessage);\n",
        "\n",
        "print(\"--------------------------------------------------------------\")\n",
        "\n",
        "print(\"The final string message is: \", dmsg)"
      ],
      "execution_count": null,
      "outputs": [
        {
          "output_type": "stream",
          "name": "stdout",
          "text": [
            "The original message is: This is a top secret message!!!\n",
            "--------------------------------------------------------------\n",
            "g used :  17334788862652511585052678830030660449020487169122\n",
            "g^a used :  1452217099668051044377095778255250567031169588343\n",
            "g^k used :  17154426723761348540405350447155266599826996389371\n",
            "g^ak used :  37086406871520231631157281192326957105597388731574\n",
            "The encrypted message is: [3115258177207699457017211620155464396870180653452216, 3856986314638104089640357244002003538982128428083696, 3894072721509624321271514525194330496087725816815270, 4264936790224826637583087337117600067143699704131010, 1186765019888647412197032998154462627379116439410368, 3894072721509624321271514525194330496087725816815270, 4264936790224826637583087337117600067143699704131010, 1186765019888647412197032998154462627379116439410368, 3597381466537462468222256275655714839242946706962678, 1186765019888647412197032998154462627379116439410368, 4302023197096346869214244618309927024249297092862584, 4116591162738745711058458212348292238721310149204714, 4153677569610265942689615493540619195826907537936288, 1186765019888647412197032998154462627379116439410368, 4264936790224826637583087337117600067143699704131010, 3745727094023543394746885400425022667665336261888974, 3671554280280502931484570838040368753454141484425826, 4227850383353306405951930055925273110038102315399436, 3745727094023543394746885400425022667665336261888974, 4302023197096346869214244618309927024249297092862584, 1186765019888647412197032998154462627379116439410368, 4042418348995705247796143649963638324510115371741566, 3745727094023543394746885400425022667665336261888974, 4264936790224826637583087337117600067143699704131010, 4264936790224826637583087337117600067143699704131010, 3597381466537462468222256275655714839242946706962678, 3819899907766583858009199962809676581876531039352122, 3745727094023543394746885400425022667665336261888974, 1223851426760167643828190279346789584484713828141942, 1223851426760167643828190279346789584484713828141942, 1223851426760167643828190279346789584484713828141942]\n",
            "The decrypted message is: ['T', 'h', 'i', 's', ' ', 'i', 's', ' ', 'a', ' ', 't', 'o', 'p', ' ', 's', 'e', 'c', 'r', 'e', 't', ' ', 'm', 'e', 's', 's', 'a', 'g', 'e', '!', '!', '!']\n",
            "--------------------------------------------------------------\n",
            "The final string message is:  This is a top secret message!!!\n"
          ]
        }
      ]
    },
    {
      "cell_type": "markdown",
      "metadata": {
        "id": "1Z7VRbTJVSI8"
      },
      "source": [
        "<h4><b>VII.3 - BLUM–GOLDWASSER CRYPTOSYSTEM </b></h4>\n",
        "\n",
        "<p>The Blum–Goldwasser (BG) cryptosystem is an asymmetric key encryption algorithm proposed by Manuel Blum and Shafi Goldwasser in 1984. The encryption algorithm implements an XOR-based stream cipher using the Blum-Blum-Shub (BBS) pseudo-random number generator to generate the keystream. Decryption is accomplished by manipulating the final state of the BBS generator using the private key, in order to find the initial seed and reconstruct the keystream.</p>\n",
        "\n",
        "<p>The Blum–Goldwasser cryptosystem consists of three algorithms: a probabilistic key generation algorithm which produces a public and a private key, a probabilistic encryption algorithm, and a deterministic decryption algorithm.</p>\n",
        "\n",
        "<p>Let's implement the algorithm by defining first the xor, isPrime and modInverse functions.</p>"
      ]
    },
    {
      "cell_type": "code",
      "metadata": {
        "id": "Z_VLv_cdZFyH"
      },
      "source": [
        "import random\n",
        "import numpy\n",
        "import os\n",
        "import sys\n",
        "import math\n",
        "\n",
        "#function for checking if a number is prime\n",
        "def is_prime_number(x):\n",
        "  if x >= 2:\n",
        "    for y in range(2,x):\n",
        "      if not ( x % y ):\n",
        "        return False\n",
        "  else:\n",
        "    return False\n",
        "  return True\n",
        "\n",
        "#function for XORing two strings\n",
        "def XOR(a,b):\n",
        "  a,b = str(a),str(b)\n",
        "  assert(len(a) <= len(b))\n",
        "  result = \"\"\n",
        "  for i in range(len(a)):\n",
        "    result += str(int(a[i]) ^ int(b[i]))\n",
        "  return result\n",
        "\n",
        "#function for finding the modular inverse\n",
        "def modInverse(a, m) : \n",
        "  a = a % m\n",
        "  for x in range(1, m) : \n",
        "    if ((a * x) % m == 1) : \n",
        "      return x \n",
        "  return 1\n",
        "\n",
        "def power(x, y, m):\n",
        "  if (y == 0):\n",
        "    return 1\n",
        "  p = power(x, y // 2, m) % m\n",
        "  p = (p * p) % m\n",
        "\n",
        "  return p if(y % 2 == 0) else  (x * p) % m"
      ],
      "execution_count": null,
      "outputs": []
    },
    {
      "cell_type": "markdown",
      "metadata": {
        "id": "dQNIGRYYZOYv"
      },
      "source": [
        "<p>Then, we will define the keyGenerate function.</p>"
      ]
    },
    {
      "cell_type": "code",
      "metadata": {
        "id": "AMe4bFWwZakw"
      },
      "source": [
        "def generateKey(message, p, q):\n",
        "  N = p * q\n",
        "  print(\"N =\", N)\n",
        "  splitStringMessage = str(message)\n",
        "  return N, splitStringMessage"
      ],
      "execution_count": null,
      "outputs": []
    },
    {
      "cell_type": "markdown",
      "metadata": {
        "id": "7QFwjIVxZtAm"
      },
      "source": [
        "<p>After that, we will create the encryptBGC function.</p>"
      ]
    },
    {
      "cell_type": "code",
      "metadata": {
        "id": "MAPJV-g4Zz66"
      },
      "source": [
        "def encryptBGC(message, p, q, X0):\n",
        "\n",
        "  X = []\n",
        "  X.append(X0)\n",
        "\n",
        "  b = \"\"\n",
        "  N, stringMessage = generateKey(message, p, q)\n",
        "  L = len(stringMessage)\n",
        "  for i in range(L):\n",
        "      stringX = bin(X[-1])[2:]\n",
        "      size = len(stringX)\n",
        "      b_i = stringX[size-1]\n",
        "      b = b_i + b\n",
        "      new_x = (X[i] ** 2) % N\n",
        "      X.append(new_x)\n",
        "\n",
        "  print(\"b =\", b)\n",
        "  str_m = str(stringMessage)\n",
        "\n",
        "  ciphertext = XOR(str_m, b)\n",
        "  print(\"C =\", ciphertext)\n",
        "\n",
        "  XL = X[-1]\n",
        "  X0 = X[0]\n",
        "  XL_check = power(X0, math.pow(2, L), N)\n",
        "  assert (XL == XL_check)\n",
        "\n",
        "  #this tuple represents what is being sent to Alice\n",
        "  sent_message = (ciphertext, XL)\n",
        "\n",
        "  y = sent_message[1]\n",
        "  return y, L, ciphertext, N"
      ],
      "execution_count": null,
      "outputs": []
    },
    {
      "cell_type": "markdown",
      "metadata": {
        "id": "7Ndcz2pXadPB"
      },
      "source": [
        "<p>And now, we just have to implement the decryptBGC function.</p>"
      ]
    },
    {
      "cell_type": "code",
      "metadata": {
        "id": "TKD8Aoeyai33"
      },
      "source": [
        "def decryptBGC(L, encryptedMessage, ciphertext, N):\n",
        "  firstExponent = (((p+1)//4)**L) % (p-1)\n",
        "  firstPhrase = \"({}^{}) mod {}\".format(encryptedMessage, firstExponent,p)\n",
        "  r_p = power(encryptedMessage, firstExponent,p)\n",
        "\n",
        "  secondExponent = (((q+1)//4)**L) % (q-1)\n",
        "  secondPhrase = \"({}^{}) mod {}\".format(encryptedMessage, secondExponent,q)\n",
        "  r_q = power(encryptedMessage, secondExponent,q)\n",
        "\n",
        "  NEWX0 = (q*modInverse(q,p)*r_p + p*modInverse(p,q)*r_q)%N\n",
        "  NEWX = []\n",
        "  NEWX.append(NEWX0)\n",
        "\n",
        "\n",
        "  b = \"\"\n",
        "  for i in range(L):\n",
        "      stringX = bin(NEWX[-1])[2:]\n",
        "      size = len(stringX)\n",
        "      b_i = stringX[size-1]\n",
        "      b = b_i + b\n",
        "      new_x = (NEWX[i] ** 2) % N\n",
        "      NEWX.append(new_x)\n",
        "\n",
        "  plaintext = XOR(ciphertext,b)\n",
        "\n",
        "  return plaintext"
      ],
      "execution_count": null,
      "outputs": []
    },
    {
      "cell_type": "markdown",
      "metadata": {
        "id": "mB6Fg73Ra3Xy"
      },
      "source": [
        "<p>Finally, we can test our algorithm.</p>\n"
      ]
    },
    {
      "cell_type": "code",
      "metadata": {
        "colab": {
          "base_uri": "https://localhost:8080/"
        },
        "id": "r8XYguqda6WW",
        "outputId": "9839ef47-72f8-46ac-ec68-b6874bd7aac9"
      },
      "source": [
        "p=499\n",
        "q=547\n",
        "a=-57\n",
        "b=52\n",
        "X0 =159201\n",
        "message = 10011100000100001100\n",
        "\n",
        "#making sure p and q are congruent to \n",
        "assert(is_prime_number(p))\n",
        "assert(is_prime_number(q))\n",
        "\n",
        "assert(p % 4 == 3)\n",
        "assert(q % 4 == 3)\n",
        "\n",
        "print(\"The original message is: \", message)\n",
        "\n",
        "encryptedMessage, L, ciphertext, N = encryptBGC(message, p, q, X0)\n",
        "print(\"The encrypted message is: \", encryptedMessage)\n",
        "\n",
        "decryptedMessage = decryptBGC(L, encryptedMessage, ciphertext, N)\n",
        "print(\"The decrypted message is: \", decryptedMessage)"
      ],
      "execution_count": null,
      "outputs": [
        {
          "output_type": "stream",
          "name": "stdout",
          "text": [
            "The original message is:  10011100000100001100\n",
            "N = 272953\n",
            "b = 00101100000010001011\n",
            "C = 10110000000110000111\n",
            "The encrypted message is:  36858\n",
            "The decrypted message is:  10011100000100001100\n"
          ]
        }
      ]
    },
    {
      "cell_type": "markdown",
      "metadata": {
        "id": "zZV8h6Aog2Xg"
      },
      "source": [
        "<p align = \"center\"><b> Labs Done by Carlita Khawand & Hussein Jaber </b></p>"
      ]
    }
  ]
}